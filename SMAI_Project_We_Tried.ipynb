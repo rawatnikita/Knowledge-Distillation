{
  "cells": [
    {
      "cell_type": "markdown",
      "metadata": {
        "id": "3C2f2bg52Jt6"
      },
      "source": [
        "# FitNets - Feature Based Knowledge Distillation"
      ]
    },
    {
      "cell_type": "markdown",
      "metadata": {
        "id": "y1NXnnzm2Stk"
      },
      "source": [
        "#### Importing Libraries"
      ]
    },
    {
      "cell_type": "code",
      "execution_count": 1,
      "metadata": {
        "id": "nq58bVytz-3s"
      },
      "outputs": [],
      "source": [
        "import keras\n",
        "import random\n",
        "import numpy as np\n",
        "import tensorflow as tf\n",
        "from keras import Sequential\n",
        "from matplotlib import pyplot as plt\n",
        "from tensorflow.keras.optimizers import SGD\n",
        "from tensorflow.keras.utils import to_categorical\n",
        "from keras.layers import Dense, Conv2D, Flatten, Dropout, MaxPooling2D, Input"
      ]
    },
    {
      "cell_type": "markdown",
      "metadata": {
        "id": "wlzdarqe2ipF"
      },
      "source": [
        "#### Load Data"
      ]
    },
    {
      "cell_type": "code",
      "execution_count": 2,
      "metadata": {
        "colab": {
          "base_uri": "https://localhost:8080/"
        },
        "id": "UxwIigPx2o3u",
        "outputId": "625a9085-af43-4ef7-c875-0feaae341517"
      },
      "outputs": [
        {
          "name": "stdout",
          "output_type": "stream",
          "text": [
            "Downloading data from https://www.cs.toronto.edu/~kriz/cifar-10-python.tar.gz\n",
            "170500096/170498071 [==============================] - 4s 0us/step\n",
            "170508288/170498071 [==============================] - 4s 0us/step\n"
          ]
        }
      ],
      "source": [
        "(x_train, y_train), (x_test, y_test) = keras.datasets.cifar10.load_data()"
      ]
    },
    {
      "cell_type": "markdown",
      "metadata": {
        "id": "yTYBdH4o3wcM"
      },
      "source": [
        "#### Visualize Data"
      ]
    },
    {
      "cell_type": "code",
      "execution_count": 3,
      "metadata": {
        "colab": {
          "base_uri": "https://localhost:8080/",
          "height": 253
        },
        "id": "TQPeNIpn3z10",
        "outputId": "f63851d0-3467-4778-af43-00dabf399fa1"
      },
      "outputs": [
        {
          "name": "stdout",
          "output_type": "stream",
          "text": [
            "X_train shape: (50000, 32, 32, 3)\n",
            "Y_train shape: (50000, 1)\n",
            "X_test  shape: (10000, 32, 32, 3)\n",
            "Y_test  shape: (10000, 1)\n"
          ]
        },
        {
          "data": {
            "image/png": "[encoded data removed]",
            "text/plain": [
              "<Figure size 720x216 with 5 Axes>"
            ]
          },
          "metadata": {
            "needs_background": "light"
          },
          "output_type": "display_data"
        }
      ],
      "source": [
        "print(\"X_train shape:\", x_train.shape)\n",
        "print(\"Y_train shape:\", y_train.shape)\n",
        "print(\"X_test  shape:\", x_test.shape)\n",
        "print(\"Y_test  shape:\", y_test.shape)\n",
        "\n",
        "labels = [\"AIRPLANE\", \"AUTOMOBILE\", \"BIRD\", \"CAT\", \"DEER\", \"DOG\", \"FROG\", \"HORSE\", \"SHIP\", \"TRUCK\"]\n",
        "plt.figure(figsize = (10, 3))\n",
        "plt.suptitle(\"Sample Training Data\")\n",
        "for i in range(1, 6):\n",
        "    plt.subplot(1, 5, i)\n",
        "    ran_int = random.randint(0, x_train.shape[0])\n",
        "    plt.imshow(x_train[ran_int], cmap=\"gray\")\n",
        "    plt.title(labels[y_train[ran_int][0]])\n",
        "    plt.axis('off')\n",
        "plt.show()\n"
      ]
    },
    {
      "cell_type": "markdown",
      "metadata": {
        "id": "95xaRmFx3eys"
      },
      "source": [
        "#### Scale Data & Get One hot encoding"
      ]
    },
    {
      "cell_type": "code",
      "execution_count": 4,
      "metadata": {
        "id": "OYAnujya26rn"
      },
      "outputs": [],
      "source": [
        "x_train = x_train.astype('float32')\n",
        "x_test = x_test.astype('float32')\n",
        "\n",
        "x_train = x_train / 255.0\n",
        "x_test = x_test / 255.0\n",
        "\n",
        "y_train = to_categorical(y_train)\n",
        "y_test = to_categorical(y_test)"
      ]
    },
    {
      "cell_type": "markdown",
      "metadata": {
        "id": "5H8speNT8amm"
      },
      "source": [
        "#### Model Checkpointing"
      ]
    },
    {
      "cell_type": "code",
      "execution_count": 5,
      "metadata": {
        "id": "20KNMZe05QJe"
      },
      "outputs": [],
      "source": [
        "model_checkpoint_callback = tf.keras.callbacks.ModelCheckpoint(\n",
        "    filepath = \"./model_checkpoints/weights\",\n",
        "    monitor=\"val_accuracy\",\n",
        "    verbose=1,\n",
        "    save_best_only=True,\n",
        "    save_weights_only=True,\n",
        "    mode=\"max\",\n",
        "    save_freq=\"epoch\",\n",
        "    options=None,\n",
        "    initial_value_threshold=None,\n",
        ")"
      ]
    },
    {
      "cell_type": "markdown",
      "metadata": {
        "id": "RR3R14fqKs7J"
      },
      "source": [
        "#### Plot Graphs"
      ]
    },
    {
      "cell_type": "code",
      "execution_count": 6,
      "metadata": {
        "id": "RmWbt4J5Kwve"
      },
      "outputs": [],
      "source": [
        "def plot_graphs(history, model_name, acc = \"accuracy\", val_acc = \"val_accuracy\", losss = \"loss\", val_loss = \"val_loss\"):\n",
        "    plt.figure(figsize=(14,3))\n",
        "\n",
        "    # plot accuracy\n",
        "    plt.subplot(1, 2, 1)\n",
        "    plt.title('Classification Accuracy')\n",
        "    plt.xlabel(\"Epochs\")\n",
        "    plt.ylabel(\"Accuracy\")\n",
        "    plt.plot(history.history[acc], color='blue', label='Train')\n",
        "    plt.plot(history.history[val_acc], color='red', label='Test')\n",
        "    # lll = len(history.history['accuracy'])\n",
        "    # plt.xticks(np.arange(lll), range(1, lll + 1))\n",
        "    plt.legend(loc=\"lower right\")\n",
        "    \n",
        "    # plot loss\n",
        "    plt.subplot(1, 2, 2)\n",
        "    plt.title('Cross Entropy Loss')\n",
        "    plt.xlabel(\"Epochs\")\n",
        "    plt.ylabel(\"Loss\")\n",
        "    plt.plot(history.history[losss], color='blue', label='Train')\n",
        "    plt.plot(history.history[val_loss], color='red', label='Test')\n",
        "    plt.legend(loc=\"upper right\")\n",
        "    \n",
        "    plt.suptitle(model_name)\n",
        "    plt.show()"
      ]
    },
    {
      "cell_type": "markdown",
      "metadata": {
        "id": "EJpmUsfNEmgs"
      },
      "source": [
        "#### Teacher Model"
      ]
    },
    {
      "cell_type": "code",
      "execution_count": 7,
      "metadata": {
        "colab": {
          "base_uri": "https://localhost:8080/"
        },
        "id": "jC7_rm-L-GrI",
        "outputId": "fe335843-2b44-4be6-ef1e-715bb7d8b1bf"
      },
      "outputs": [
        {
          "name": "stdout",
          "output_type": "stream",
          "text": [
            "TEACHER SUMMARY\n",
            "Model: \"model\"\n",
            "_________________________________________________________________\n",
            " Layer (type)                Output Shape              Param #   \n",
            "=================================================================\n",
            " input_1 (InputLayer)        [(None, 32, 32, 3)]       0         \n",
            "                                                                 \n",
            " conv2d (Conv2D)             (None, 32, 32, 32)        896       \n",
            "                                                                 \n",
            " conv2d_1 (Conv2D)           (None, 32, 32, 32)        9248      \n",
            "                                                                 \n",
            " max_pooling2d (MaxPooling2D  (None, 16, 16, 32)       0         \n",
            " )                                                               \n",
            "                                                                 \n",
            " dropout (Dropout)           (None, 16, 16, 32)        0         \n",
            "                                                                 \n",
            " conv2d_2 (Conv2D)           (None, 16, 16, 64)        18496     \n",
            "                                                                 \n",
            " conv2d_3 (Conv2D)           (None, 16, 16, 64)        36928     \n",
            "                                                                 \n",
            " max_pooling2d_1 (MaxPooling  (None, 8, 8, 64)         0         \n",
            " 2D)                                                             \n",
            "                                                                 \n",
            " dropout_1 (Dropout)         (None, 8, 8, 64)          0         \n",
            "                                                                 \n",
            " conv2d_4 (Conv2D)           (None, 8, 8, 128)         73856     \n",
            "                                                                 \n",
            " conv2d_5 (Conv2D)           (None, 8, 8, 128)         147584    \n",
            "                                                                 \n",
            " max_pooling2d_2 (MaxPooling  (None, 4, 4, 128)        0         \n",
            " 2D)                                                             \n",
            "                                                                 \n",
            " dropout_2 (Dropout)         (None, 4, 4, 128)         0         \n",
            "                                                                 \n",
            " flatten (Flatten)           (None, 2048)              0         \n",
            "                                                                 \n",
            " dense (Dense)               (None, 128)               262272    \n",
            "                                                                 \n",
            " dropout_3 (Dropout)         (None, 128)               0         \n",
            "                                                                 \n",
            " dense_1 (Dense)             (None, 10)                1290      \n",
            "                                                                 \n",
            "=================================================================\n",
            "Total params: 550,570\n",
            "Trainable params: 550,570\n",
            "Non-trainable params: 0\n",
            "_________________________________________________________________\n",
            "None\n"
          ]
        }
      ],
      "source": [
        "t_inputs = keras.Input(shape=(32, 32, 3))\n",
        "\n",
        "t_1 = Conv2D(32, (3, 3), activation='relu', kernel_initializer='he_uniform', padding='same')(t_inputs)\n",
        "t_2 = Conv2D(32, (3, 3), activation='relu', kernel_initializer='he_uniform', padding='same')(t_1)\n",
        "t_3 = MaxPooling2D((2, 2))(t_2)\n",
        "t_4 = Dropout(0.2)(t_3)\n",
        "\t\n",
        "t_5 = Conv2D(64, (3, 3), activation='relu', kernel_initializer='he_uniform', padding='same')(t_4)\n",
        "t_6 = Conv2D(64, (3, 3), activation='relu', kernel_initializer='he_uniform', padding='same')(t_5)\n",
        "t_7 = MaxPooling2D((2, 2))(t_6)\n",
        "t_8 = Dropout(0.2)(t_7)\n",
        "\n",
        "t_9 = Conv2D(128, (3, 3), activation='relu', kernel_initializer='he_uniform', padding='same')(t_8)\n",
        "t_10 = Conv2D(128, (3, 3), activation='relu', kernel_initializer='he_uniform', padding='same')(t_9)\n",
        "t_11 = MaxPooling2D((2, 2))(t_10)\n",
        "t_12 = Dropout(0.2)(t_11)\n",
        "\n",
        "t_13 = Flatten()(t_12)\n",
        "t_14 = Dense(128, activation='relu', kernel_initializer='he_uniform')(t_13)\n",
        "t_15 = Dropout(0.2)(t_14)\n",
        "\n",
        "t_outputs = Dense(10, activation='softmax')(t_15)\n",
        "\n",
        "# build model\n",
        "teacher = keras.models.Model(inputs=t_inputs, outputs=t_outputs)\n",
        "\n",
        "# compile teacher model\n",
        "opt = SGD(learning_rate=0.001, momentum=0.9)\n",
        "teacher.compile(optimizer=opt, loss='categorical_crossentropy', metrics=['accuracy'])\n",
        "print(\"TEACHER SUMMARY\")\n",
        "print(teacher.summary())"
      ]
    },
    {
      "cell_type": "markdown",
      "metadata": {
        "id": "hbGyHM3bEyTN"
      },
      "source": [
        "#### Train Teacher"
      ]
    },
    {
      "cell_type": "code",
      "execution_count": 8,
      "metadata": {
        "colab": {
          "base_uri": "https://localhost:8080/"
        },
        "id": "jU3BJDmFEx3I",
        "outputId": "146d158c-ca40-4e8c-c0b0-6f5fa0850508"
      },
      "outputs": [
        {
          "name": "stdout",
          "output_type": "stream",
          "text": [
            "Epoch 1/200\n",
            "391/391 [==============================] - ETA: 0s - loss: 2.1302 - accuracy: 0.2033\n",
            "Epoch 1: val_accuracy improved from -inf to 0.30820, saving model to ./model_checkpoints/weights\n",
            "391/391 [==============================] - 15s 13ms/step - loss: 2.1302 - accuracy: 0.2033 - val_loss: 1.8723 - val_accuracy: 0.3082\n",
            "Epoch 2/200\n",
            "387/391 [============================>.] - ETA: 0s - loss: 1.8098 - accuracy: 0.3305\n",
            "Epoch 2: val_accuracy improved from 0.30820 to 0.38270, saving model to ./model_checkpoints/weights\n",
            "391/391 [==============================] - 4s 11ms/step - loss: 1.8093 - accuracy: 0.3308 - val_loss: 1.7015 - val_accuracy: 0.3827\n",
            "Epoch 3/200\n",
            "391/391 [==============================] - ETA: 0s - loss: 1.6653 - accuracy: 0.3873\n",
            "Epoch 3: val_accuracy improved from 0.38270 to 0.44120, saving model to ./model_checkpoints/weights\n",
            "391/391 [==============================] - 4s 11ms/step - loss: 1.6653 - accuracy: 0.3873 - val_loss: 1.5401 - val_accuracy: 0.4412\n",
            "Epoch 4/200\n",
            "391/391 [==============================] - ETA: 0s - loss: 1.5663 - accuracy: 0.4256\n",
            "Epoch 4: val_accuracy improved from 0.44120 to 0.47100, saving model to ./model_checkpoints/weights\n",
            "391/391 [==============================] - 4s 11ms/step - loss: 1.5663 - accuracy: 0.4256 - val_loss: 1.4456 - val_accuracy: 0.4710\n",
            "Epoch 5/200\n",
            "388/391 [============================>.] - ETA: 0s - loss: 1.4998 - accuracy: 0.4511\n",
            "Epoch 5: val_accuracy improved from 0.47100 to 0.50520, saving model to ./model_checkpoints/weights\n",
            "391/391 [==============================] - 4s 11ms/step - loss: 1.4999 - accuracy: 0.4512 - val_loss: 1.3825 - val_accuracy: 0.5052\n",
            "Epoch 6/200\n",
            "390/391 [============================>.] - ETA: 0s - loss: 1.4456 - accuracy: 0.4723\n",
            "Epoch 6: val_accuracy improved from 0.50520 to 0.50640, saving model to ./model_checkpoints/weights\n",
            "391/391 [==============================] - 4s 11ms/step - loss: 1.4457 - accuracy: 0.4722 - val_loss: 1.3585 - val_accuracy: 0.5064\n",
            "Epoch 7/200\n",
            "387/391 [============================>.] - ETA: 0s - loss: 1.3965 - accuracy: 0.4944\n",
            "Epoch 7: val_accuracy improved from 0.50640 to 0.54120, saving model to ./model_checkpoints/weights\n",
            "391/391 [==============================] - 4s 10ms/step - loss: 1.3963 - accuracy: 0.4942 - val_loss: 1.2882 - val_accuracy: 0.5412\n",
            "Epoch 8/200\n",
            "387/391 [============================>.] - ETA: 0s - loss: 1.3496 - accuracy: 0.5136\n",
            "Epoch 8: val_accuracy did not improve from 0.54120\n",
            "391/391 [==============================] - 4s 10ms/step - loss: 1.3486 - accuracy: 0.5139 - val_loss: 1.3020 - val_accuracy: 0.5290\n",
            "Epoch 9/200\n",
            "389/391 [============================>.] - ETA: 0s - loss: 1.3181 - accuracy: 0.5249\n",
            "Epoch 9: val_accuracy improved from 0.54120 to 0.54840, saving model to ./model_checkpoints/weights\n",
            "391/391 [==============================] - 4s 10ms/step - loss: 1.3180 - accuracy: 0.5250 - val_loss: 1.2672 - val_accuracy: 0.5484\n",
            "Epoch 10/200\n",
            "389/391 [============================>.] - ETA: 0s - loss: 1.2755 - accuracy: 0.5410\n",
            "Epoch 10: val_accuracy improved from 0.54840 to 0.57290, saving model to ./model_checkpoints/weights\n",
            "391/391 [==============================] - 4s 11ms/step - loss: 1.2751 - accuracy: 0.5410 - val_loss: 1.1952 - val_accuracy: 0.5729\n",
            "Epoch 11/200\n",
            "390/391 [============================>.] - ETA: 0s - loss: 1.2399 - accuracy: 0.5549\n",
            "Epoch 11: val_accuracy improved from 0.57290 to 0.57830, saving model to ./model_checkpoints/weights\n",
            "391/391 [==============================] - 4s 10ms/step - loss: 1.2398 - accuracy: 0.5548 - val_loss: 1.1749 - val_accuracy: 0.5783\n",
            "Epoch 12/200\n",
            "388/391 [============================>.] - ETA: 0s - loss: 1.2110 - accuracy: 0.5656\n",
            "Epoch 12: val_accuracy improved from 0.57830 to 0.58900, saving model to ./model_checkpoints/weights\n",
            "391/391 [==============================] - 4s 11ms/step - loss: 1.2107 - accuracy: 0.5657 - val_loss: 1.1445 - val_accuracy: 0.5890\n",
            "Epoch 13/200\n",
            "388/391 [============================>.] - ETA: 0s - loss: 1.1795 - accuracy: 0.5780\n",
            "Epoch 13: val_accuracy improved from 0.58900 to 0.61630, saving model to ./model_checkpoints/weights\n",
            "391/391 [==============================] - 4s 11ms/step - loss: 1.1791 - accuracy: 0.5782 - val_loss: 1.0747 - val_accuracy: 0.6163\n",
            "Epoch 14/200\n",
            "388/391 [============================>.] - ETA: 0s - loss: 1.1576 - accuracy: 0.5865\n",
            "Epoch 14: val_accuracy did not improve from 0.61630\n",
            "391/391 [==============================] - 4s 11ms/step - loss: 1.1574 - accuracy: 0.5865 - val_loss: 1.0841 - val_accuracy: 0.6150\n",
            "Epoch 15/200\n",
            "390/391 [============================>.] - ETA: 0s - loss: 1.1205 - accuracy: 0.6023\n",
            "Epoch 15: val_accuracy improved from 0.61630 to 0.63090, saving model to ./model_checkpoints/weights\n",
            "391/391 [==============================] - 4s 11ms/step - loss: 1.1209 - accuracy: 0.6021 - val_loss: 1.0376 - val_accuracy: 0.6309\n",
            "Epoch 16/200\n",
            "388/391 [============================>.] - ETA: 0s - loss: 1.0921 - accuracy: 0.6119\n",
            "Epoch 16: val_accuracy improved from 0.63090 to 0.64950, saving model to ./model_checkpoints/weights\n",
            "391/391 [==============================] - 4s 11ms/step - loss: 1.0917 - accuracy: 0.6119 - val_loss: 1.0089 - val_accuracy: 0.6495\n",
            "Epoch 17/200\n",
            "390/391 [============================>.] - ETA: 0s - loss: 1.0729 - accuracy: 0.6196\n",
            "Epoch 17: val_accuracy improved from 0.64950 to 0.65360, saving model to ./model_checkpoints/weights\n",
            "391/391 [==============================] - 4s 11ms/step - loss: 1.0730 - accuracy: 0.6195 - val_loss: 0.9829 - val_accuracy: 0.6536\n",
            "Epoch 18/200\n",
            "389/391 [============================>.] - ETA: 0s - loss: 1.0537 - accuracy: 0.6243\n",
            "Epoch 18: val_accuracy improved from 0.65360 to 0.65610, saving model to ./model_checkpoints/weights\n",
            "391/391 [==============================] - 4s 11ms/step - loss: 1.0534 - accuracy: 0.6243 - val_loss: 0.9709 - val_accuracy: 0.6561\n",
            "Epoch 19/200\n",
            "388/391 [============================>.] - ETA: 0s - loss: 1.0282 - accuracy: 0.6335\n",
            "Epoch 19: val_accuracy improved from 0.65610 to 0.65740, saving model to ./model_checkpoints/weights\n",
            "391/391 [==============================] - 4s 10ms/step - loss: 1.0278 - accuracy: 0.6338 - val_loss: 0.9611 - val_accuracy: 0.6574\n",
            "Epoch 20/200\n",
            "389/391 [============================>.] - ETA: 0s - loss: 1.0055 - accuracy: 0.6410\n",
            "Epoch 20: val_accuracy improved from 0.65740 to 0.66040, saving model to ./model_checkpoints/weights\n",
            "391/391 [==============================] - 4s 10ms/step - loss: 1.0056 - accuracy: 0.6409 - val_loss: 0.9488 - val_accuracy: 0.6604\n",
            "Epoch 21/200\n",
            "386/391 [============================>.] - ETA: 0s - loss: 0.9910 - accuracy: 0.6484\n",
            "Epoch 21: val_accuracy improved from 0.66040 to 0.67960, saving model to ./model_checkpoints/weights\n",
            "391/391 [==============================] - 4s 11ms/step - loss: 0.9904 - accuracy: 0.6484 - val_loss: 0.9047 - val_accuracy: 0.6796\n",
            "Epoch 22/200\n",
            "389/391 [============================>.] - ETA: 0s - loss: 0.9711 - accuracy: 0.6549\n",
            "Epoch 22: val_accuracy did not improve from 0.67960\n",
            "391/391 [==============================] - 4s 10ms/step - loss: 0.9712 - accuracy: 0.6547 - val_loss: 0.9001 - val_accuracy: 0.6786\n",
            "Epoch 23/200\n",
            "388/391 [============================>.] - ETA: 0s - loss: 0.9545 - accuracy: 0.6614\n",
            "Epoch 23: val_accuracy improved from 0.67960 to 0.68010, saving model to ./model_checkpoints/weights\n",
            "391/391 [==============================] - 4s 10ms/step - loss: 0.9550 - accuracy: 0.6611 - val_loss: 0.9074 - val_accuracy: 0.6801\n",
            "Epoch 24/200\n",
            "388/391 [============================>.] - ETA: 0s - loss: 0.9376 - accuracy: 0.6683\n",
            "Epoch 24: val_accuracy improved from 0.68010 to 0.69090, saving model to ./model_checkpoints/weights\n",
            "391/391 [==============================] - 4s 11ms/step - loss: 0.9383 - accuracy: 0.6680 - val_loss: 0.8708 - val_accuracy: 0.6909\n",
            "Epoch 25/200\n",
            "387/391 [============================>.] - ETA: 0s - loss: 0.9247 - accuracy: 0.6722\n",
            "Epoch 25: val_accuracy improved from 0.69090 to 0.69440, saving model to ./model_checkpoints/weights\n",
            "391/391 [==============================] - 4s 10ms/step - loss: 0.9253 - accuracy: 0.6722 - val_loss: 0.8661 - val_accuracy: 0.6944\n",
            "Epoch 26/200\n",
            "386/391 [============================>.] - ETA: 0s - loss: 0.9085 - accuracy: 0.6792\n",
            "Epoch 26: val_accuracy did not improve from 0.69440\n",
            "391/391 [==============================] - 4s 10ms/step - loss: 0.9082 - accuracy: 0.6790 - val_loss: 0.9178 - val_accuracy: 0.6744\n",
            "Epoch 27/200\n",
            "389/391 [============================>.] - ETA: 0s - loss: 0.8963 - accuracy: 0.6829\n",
            "Epoch 27: val_accuracy improved from 0.69440 to 0.69670, saving model to ./model_checkpoints/weights\n",
            "391/391 [==============================] - 4s 10ms/step - loss: 0.8967 - accuracy: 0.6827 - val_loss: 0.8485 - val_accuracy: 0.6967\n",
            "Epoch 28/200\n",
            "389/391 [============================>.] - ETA: 0s - loss: 0.8821 - accuracy: 0.6884\n",
            "Epoch 28: val_accuracy did not improve from 0.69670\n",
            "391/391 [==============================] - 4s 10ms/step - loss: 0.8821 - accuracy: 0.6885 - val_loss: 0.8582 - val_accuracy: 0.6961\n",
            "Epoch 29/200\n",
            "387/391 [============================>.] - ETA: 0s - loss: 0.8663 - accuracy: 0.6935\n",
            "Epoch 29: val_accuracy improved from 0.69670 to 0.71130, saving model to ./model_checkpoints/weights\n",
            "391/391 [==============================] - 4s 11ms/step - loss: 0.8663 - accuracy: 0.6934 - val_loss: 0.8189 - val_accuracy: 0.7113\n",
            "Epoch 30/200\n",
            "386/391 [============================>.] - ETA: 0s - loss: 0.8555 - accuracy: 0.6957\n",
            "Epoch 30: val_accuracy improved from 0.71130 to 0.72490, saving model to ./model_checkpoints/weights\n",
            "391/391 [==============================] - 4s 11ms/step - loss: 0.8550 - accuracy: 0.6960 - val_loss: 0.7882 - val_accuracy: 0.7249\n",
            "Epoch 31/200\n",
            "389/391 [============================>.] - ETA: 0s - loss: 0.8444 - accuracy: 0.7005\n",
            "Epoch 31: val_accuracy improved from 0.72490 to 0.72590, saving model to ./model_checkpoints/weights\n",
            "391/391 [==============================] - 4s 11ms/step - loss: 0.8439 - accuracy: 0.7007 - val_loss: 0.7751 - val_accuracy: 0.7259\n",
            "Epoch 32/200\n",
            "386/391 [============================>.] - ETA: 0s - loss: 0.8294 - accuracy: 0.7056\n",
            "Epoch 32: val_accuracy did not improve from 0.72590\n",
            "391/391 [==============================] - 4s 10ms/step - loss: 0.8293 - accuracy: 0.7057 - val_loss: 0.8021 - val_accuracy: 0.7178\n",
            "Epoch 33/200\n",
            "386/391 [============================>.] - ETA: 0s - loss: 0.8179 - accuracy: 0.7137\n",
            "Epoch 33: val_accuracy did not improve from 0.72590\n",
            "391/391 [==============================] - 4s 11ms/step - loss: 0.8179 - accuracy: 0.7134 - val_loss: 0.8118 - val_accuracy: 0.7127\n",
            "Epoch 34/200\n",
            "388/391 [============================>.] - ETA: 0s - loss: 0.8110 - accuracy: 0.7138\n",
            "Epoch 34: val_accuracy did not improve from 0.72590\n",
            "391/391 [==============================] - 4s 11ms/step - loss: 0.8117 - accuracy: 0.7137 - val_loss: 0.7864 - val_accuracy: 0.7243\n",
            "Epoch 35/200\n",
            "390/391 [============================>.] - ETA: 0s - loss: 0.8018 - accuracy: 0.7153\n",
            "Epoch 35: val_accuracy improved from 0.72590 to 0.73570, saving model to ./model_checkpoints/weights\n",
            "391/391 [==============================] - 4s 10ms/step - loss: 0.8014 - accuracy: 0.7155 - val_loss: 0.7664 - val_accuracy: 0.7357\n",
            "Epoch 36/200\n",
            "390/391 [============================>.] - ETA: 0s - loss: 0.7898 - accuracy: 0.7216\n",
            "Epoch 36: val_accuracy improved from 0.73570 to 0.73700, saving model to ./model_checkpoints/weights\n",
            "391/391 [==============================] - 4s 11ms/step - loss: 0.7897 - accuracy: 0.7217 - val_loss: 0.7528 - val_accuracy: 0.7370\n",
            "Epoch 37/200\n",
            "389/391 [============================>.] - ETA: 0s - loss: 0.7738 - accuracy: 0.7280\n",
            "Epoch 37: val_accuracy improved from 0.73700 to 0.73720, saving model to ./model_checkpoints/weights\n",
            "391/391 [==============================] - 4s 10ms/step - loss: 0.7736 - accuracy: 0.7281 - val_loss: 0.7524 - val_accuracy: 0.7372\n",
            "Epoch 38/200\n",
            "388/391 [============================>.] - ETA: 0s - loss: 0.7672 - accuracy: 0.7282\n",
            "Epoch 38: val_accuracy improved from 0.73720 to 0.73960, saving model to ./model_checkpoints/weights\n",
            "391/391 [==============================] - 4s 10ms/step - loss: 0.7667 - accuracy: 0.7285 - val_loss: 0.7442 - val_accuracy: 0.7396\n",
            "Epoch 39/200\n",
            "386/391 [============================>.] - ETA: 0s - loss: 0.7591 - accuracy: 0.7325\n",
            "Epoch 39: val_accuracy improved from 0.73960 to 0.74840, saving model to ./model_checkpoints/weights\n",
            "391/391 [==============================] - 4s 10ms/step - loss: 0.7583 - accuracy: 0.7327 - val_loss: 0.7196 - val_accuracy: 0.7484\n",
            "Epoch 40/200\n",
            "390/391 [============================>.] - ETA: 0s - loss: 0.7531 - accuracy: 0.7333\n",
            "Epoch 40: val_accuracy did not improve from 0.74840\n",
            "391/391 [==============================] - 4s 10ms/step - loss: 0.7534 - accuracy: 0.7332 - val_loss: 0.7421 - val_accuracy: 0.7369\n",
            "Epoch 41/200\n",
            "386/391 [============================>.] - ETA: 0s - loss: 0.7423 - accuracy: 0.7387\n",
            "Epoch 41: val_accuracy did not improve from 0.74840\n",
            "391/391 [==============================] - 4s 10ms/step - loss: 0.7411 - accuracy: 0.7392 - val_loss: 0.7155 - val_accuracy: 0.7477\n",
            "Epoch 42/200\n",
            "386/391 [============================>.] - ETA: 0s - loss: 0.7280 - accuracy: 0.7438\n",
            "Epoch 42: val_accuracy improved from 0.74840 to 0.75180, saving model to ./model_checkpoints/weights\n",
            "391/391 [==============================] - 4s 11ms/step - loss: 0.7279 - accuracy: 0.7440 - val_loss: 0.7028 - val_accuracy: 0.7518\n",
            "Epoch 43/200\n",
            "386/391 [============================>.] - ETA: 0s - loss: 0.7220 - accuracy: 0.7449\n",
            "Epoch 43: val_accuracy did not improve from 0.75180\n",
            "391/391 [==============================] - 4s 11ms/step - loss: 0.7209 - accuracy: 0.7453 - val_loss: 0.7216 - val_accuracy: 0.7477\n",
            "Epoch 44/200\n",
            "386/391 [============================>.] - ETA: 0s - loss: 0.7129 - accuracy: 0.7469\n",
            "Epoch 44: val_accuracy improved from 0.75180 to 0.76520, saving model to ./model_checkpoints/weights\n",
            "391/391 [==============================] - 4s 10ms/step - loss: 0.7129 - accuracy: 0.7470 - val_loss: 0.6850 - val_accuracy: 0.7652\n",
            "Epoch 45/200\n",
            "387/391 [============================>.] - ETA: 0s - loss: 0.7115 - accuracy: 0.7489\n",
            "Epoch 45: val_accuracy did not improve from 0.76520\n",
            "391/391 [==============================] - 4s 10ms/step - loss: 0.7108 - accuracy: 0.7492 - val_loss: 0.6974 - val_accuracy: 0.7588\n",
            "Epoch 46/200\n",
            "388/391 [============================>.] - ETA: 0s - loss: 0.6999 - accuracy: 0.7539\n",
            "Epoch 46: val_accuracy did not improve from 0.76520\n",
            "391/391 [==============================] - 4s 10ms/step - loss: 0.6995 - accuracy: 0.7538 - val_loss: 0.6948 - val_accuracy: 0.7612\n",
            "Epoch 47/200\n",
            "391/391 [==============================] - ETA: 0s - loss: 0.6955 - accuracy: 0.7542\n",
            "Epoch 47: val_accuracy improved from 0.76520 to 0.76780, saving model to ./model_checkpoints/weights\n",
            "391/391 [==============================] - 4s 10ms/step - loss: 0.6955 - accuracy: 0.7542 - val_loss: 0.6756 - val_accuracy: 0.7678\n",
            "Epoch 48/200\n",
            "387/391 [============================>.] - ETA: 0s - loss: 0.6839 - accuracy: 0.7590\n",
            "Epoch 48: val_accuracy improved from 0.76780 to 0.76820, saving model to ./model_checkpoints/weights\n",
            "391/391 [==============================] - 4s 10ms/step - loss: 0.6837 - accuracy: 0.7592 - val_loss: 0.6733 - val_accuracy: 0.7682\n",
            "Epoch 49/200\n",
            "386/391 [============================>.] - ETA: 0s - loss: 0.6752 - accuracy: 0.7607\n",
            "Epoch 49: val_accuracy did not improve from 0.76820\n",
            "391/391 [==============================] - 4s 11ms/step - loss: 0.6753 - accuracy: 0.7608 - val_loss: 0.6749 - val_accuracy: 0.7648\n",
            "Epoch 50/200\n",
            "386/391 [============================>.] - ETA: 0s - loss: 0.6679 - accuracy: 0.7641\n",
            "Epoch 50: val_accuracy did not improve from 0.76820\n",
            "391/391 [==============================] - 4s 10ms/step - loss: 0.6672 - accuracy: 0.7644 - val_loss: 0.6734 - val_accuracy: 0.7675\n",
            "Epoch 51/200\n",
            "387/391 [============================>.] - ETA: 0s - loss: 0.6633 - accuracy: 0.7658\n",
            "Epoch 51: val_accuracy improved from 0.76820 to 0.77250, saving model to ./model_checkpoints/weights\n",
            "391/391 [==============================] - 4s 11ms/step - loss: 0.6636 - accuracy: 0.7657 - val_loss: 0.6557 - val_accuracy: 0.7725\n",
            "Epoch 52/200\n",
            "388/391 [============================>.] - ETA: 0s - loss: 0.6595 - accuracy: 0.7663\n",
            "Epoch 52: val_accuracy improved from 0.77250 to 0.77450, saving model to ./model_checkpoints/weights\n",
            "391/391 [==============================] - 4s 11ms/step - loss: 0.6594 - accuracy: 0.7663 - val_loss: 0.6493 - val_accuracy: 0.7745\n",
            "Epoch 53/200\n",
            "389/391 [============================>.] - ETA: 0s - loss: 0.6508 - accuracy: 0.7705\n",
            "Epoch 53: val_accuracy did not improve from 0.77450\n",
            "391/391 [==============================] - 4s 10ms/step - loss: 0.6507 - accuracy: 0.7705 - val_loss: 0.6538 - val_accuracy: 0.7730\n",
            "Epoch 54/200\n",
            "388/391 [============================>.] - ETA: 0s - loss: 0.6414 - accuracy: 0.7718\n",
            "Epoch 54: val_accuracy improved from 0.77450 to 0.77800, saving model to ./model_checkpoints/weights\n",
            "391/391 [==============================] - 4s 10ms/step - loss: 0.6423 - accuracy: 0.7716 - val_loss: 0.6434 - val_accuracy: 0.7780\n",
            "Epoch 55/200\n",
            "391/391 [==============================] - ETA: 0s - loss: 0.6422 - accuracy: 0.7748\n",
            "Epoch 55: val_accuracy did not improve from 0.77800\n",
            "391/391 [==============================] - 4s 11ms/step - loss: 0.6422 - accuracy: 0.7748 - val_loss: 0.6620 - val_accuracy: 0.7691\n",
            "Epoch 56/200\n",
            "391/391 [==============================] - ETA: 0s - loss: 0.6325 - accuracy: 0.7768\n",
            "Epoch 56: val_accuracy did not improve from 0.77800\n",
            "391/391 [==============================] - 4s 11ms/step - loss: 0.6325 - accuracy: 0.7768 - val_loss: 0.6556 - val_accuracy: 0.7714\n",
            "Epoch 57/200\n",
            "386/391 [============================>.] - ETA: 0s - loss: 0.6250 - accuracy: 0.7805\n",
            "Epoch 57: val_accuracy did not improve from 0.77800\n",
            "391/391 [==============================] - 4s 10ms/step - loss: 0.6255 - accuracy: 0.7802 - val_loss: 0.6581 - val_accuracy: 0.7728\n",
            "Epoch 58/200\n",
            "388/391 [============================>.] - ETA: 0s - loss: 0.6227 - accuracy: 0.7795\n",
            "Epoch 58: val_accuracy did not improve from 0.77800\n",
            "391/391 [==============================] - 4s 11ms/step - loss: 0.6226 - accuracy: 0.7795 - val_loss: 0.6481 - val_accuracy: 0.7778\n",
            "Epoch 59/200\n",
            "387/391 [============================>.] - ETA: 0s - loss: 0.6137 - accuracy: 0.7825\n",
            "Epoch 59: val_accuracy improved from 0.77800 to 0.78370, saving model to ./model_checkpoints/weights\n",
            "391/391 [==============================] - 4s 10ms/step - loss: 0.6136 - accuracy: 0.7827 - val_loss: 0.6253 - val_accuracy: 0.7837\n",
            "Epoch 60/200\n",
            "387/391 [============================>.] - ETA: 0s - loss: 0.6082 - accuracy: 0.7844\n",
            "Epoch 60: val_accuracy did not improve from 0.78370\n",
            "391/391 [==============================] - 4s 10ms/step - loss: 0.6088 - accuracy: 0.7843 - val_loss: 0.6557 - val_accuracy: 0.7741\n",
            "Epoch 61/200\n",
            "388/391 [============================>.] - ETA: 0s - loss: 0.6011 - accuracy: 0.7876\n",
            "Epoch 61: val_accuracy improved from 0.78370 to 0.78480, saving model to ./model_checkpoints/weights\n",
            "391/391 [==============================] - 4s 10ms/step - loss: 0.6012 - accuracy: 0.7876 - val_loss: 0.6277 - val_accuracy: 0.7848\n",
            "Epoch 62/200\n",
            "388/391 [============================>.] - ETA: 0s - loss: 0.5915 - accuracy: 0.7907\n",
            "Epoch 62: val_accuracy did not improve from 0.78480\n",
            "391/391 [==============================] - 4s 10ms/step - loss: 0.5921 - accuracy: 0.7905 - val_loss: 0.6509 - val_accuracy: 0.7755\n",
            "Epoch 63/200\n",
            "389/391 [============================>.] - ETA: 0s - loss: 0.5926 - accuracy: 0.7901\n",
            "Epoch 63: val_accuracy improved from 0.78480 to 0.78490, saving model to ./model_checkpoints/weights\n",
            "391/391 [==============================] - 4s 11ms/step - loss: 0.5925 - accuracy: 0.7901 - val_loss: 0.6224 - val_accuracy: 0.7849\n",
            "Epoch 64/200\n",
            "387/391 [============================>.] - ETA: 0s - loss: 0.5839 - accuracy: 0.7938\n",
            "Epoch 64: val_accuracy did not improve from 0.78490\n",
            "391/391 [==============================] - 4s 10ms/step - loss: 0.5841 - accuracy: 0.7939 - val_loss: 0.6313 - val_accuracy: 0.7797\n",
            "Epoch 65/200\n",
            "391/391 [==============================] - ETA: 0s - loss: 0.5805 - accuracy: 0.7950\n",
            "Epoch 65: val_accuracy improved from 0.78490 to 0.78800, saving model to ./model_checkpoints/weights\n",
            "391/391 [==============================] - 4s 10ms/step - loss: 0.5805 - accuracy: 0.7950 - val_loss: 0.6102 - val_accuracy: 0.7880\n",
            "Epoch 66/200\n",
            "386/391 [============================>.] - ETA: 0s - loss: 0.5775 - accuracy: 0.7963\n",
            "Epoch 66: val_accuracy improved from 0.78800 to 0.79430, saving model to ./model_checkpoints/weights\n",
            "391/391 [==============================] - 4s 11ms/step - loss: 0.5771 - accuracy: 0.7963 - val_loss: 0.6005 - val_accuracy: 0.7943\n",
            "Epoch 67/200\n",
            "388/391 [============================>.] - ETA: 0s - loss: 0.5716 - accuracy: 0.7994\n",
            "Epoch 67: val_accuracy did not improve from 0.79430\n",
            "391/391 [==============================] - 4s 10ms/step - loss: 0.5715 - accuracy: 0.7994 - val_loss: 0.6318 - val_accuracy: 0.7815\n",
            "Epoch 68/200\n",
            "388/391 [============================>.] - ETA: 0s - loss: 0.5675 - accuracy: 0.8004\n",
            "Epoch 68: val_accuracy did not improve from 0.79430\n",
            "391/391 [==============================] - 4s 11ms/step - loss: 0.5672 - accuracy: 0.8005 - val_loss: 0.6189 - val_accuracy: 0.7837\n",
            "Epoch 69/200\n",
            "386/391 [============================>.] - ETA: 0s - loss: 0.5600 - accuracy: 0.8005\n",
            "Epoch 69: val_accuracy improved from 0.79430 to 0.79470, saving model to ./model_checkpoints/weights\n",
            "391/391 [==============================] - 4s 10ms/step - loss: 0.5605 - accuracy: 0.8002 - val_loss: 0.5972 - val_accuracy: 0.7947\n",
            "Epoch 70/200\n",
            "388/391 [============================>.] - ETA: 0s - loss: 0.5594 - accuracy: 0.8024\n",
            "Epoch 70: val_accuracy did not improve from 0.79470\n",
            "391/391 [==============================] - 4s 10ms/step - loss: 0.5592 - accuracy: 0.8025 - val_loss: 0.6009 - val_accuracy: 0.7926\n",
            "Epoch 71/200\n",
            "391/391 [==============================] - ETA: 0s - loss: 0.5506 - accuracy: 0.8035\n",
            "Epoch 71: val_accuracy did not improve from 0.79470\n",
            "391/391 [==============================] - 4s 11ms/step - loss: 0.5506 - accuracy: 0.8035 - val_loss: 0.6077 - val_accuracy: 0.7904\n",
            "Epoch 72/200\n",
            "391/391 [==============================] - ETA: 0s - loss: 0.5481 - accuracy: 0.8063\n",
            "Epoch 72: val_accuracy did not improve from 0.79470\n",
            "391/391 [==============================] - 4s 11ms/step - loss: 0.5481 - accuracy: 0.8063 - val_loss: 0.6538 - val_accuracy: 0.7781\n",
            "Epoch 73/200\n",
            "390/391 [============================>.] - ETA: 0s - loss: 0.5447 - accuracy: 0.8077\n",
            "Epoch 73: val_accuracy improved from 0.79470 to 0.79740, saving model to ./model_checkpoints/weights\n",
            "391/391 [==============================] - 4s 10ms/step - loss: 0.5444 - accuracy: 0.8077 - val_loss: 0.5920 - val_accuracy: 0.7974\n",
            "Epoch 74/200\n",
            "387/391 [============================>.] - ETA: 0s - loss: 0.5344 - accuracy: 0.8091\n",
            "Epoch 74: val_accuracy did not improve from 0.79740\n",
            "391/391 [==============================] - 4s 11ms/step - loss: 0.5343 - accuracy: 0.8091 - val_loss: 0.6021 - val_accuracy: 0.7927\n",
            "Epoch 75/200\n",
            "388/391 [============================>.] - ETA: 0s - loss: 0.5320 - accuracy: 0.8117\n",
            "Epoch 75: val_accuracy improved from 0.79740 to 0.79820, saving model to ./model_checkpoints/weights\n",
            "391/391 [==============================] - 4s 10ms/step - loss: 0.5323 - accuracy: 0.8115 - val_loss: 0.5885 - val_accuracy: 0.7982\n",
            "Epoch 76/200\n",
            "388/391 [============================>.] - ETA: 0s - loss: 0.5233 - accuracy: 0.8135\n",
            "Epoch 76: val_accuracy improved from 0.79820 to 0.79970, saving model to ./model_checkpoints/weights\n",
            "391/391 [==============================] - 4s 11ms/step - loss: 0.5233 - accuracy: 0.8135 - val_loss: 0.5861 - val_accuracy: 0.7997\n",
            "Epoch 77/200\n",
            "391/391 [==============================] - ETA: 0s - loss: 0.5232 - accuracy: 0.8154\n",
            "Epoch 77: val_accuracy did not improve from 0.79970\n",
            "391/391 [==============================] - 4s 11ms/step - loss: 0.5232 - accuracy: 0.8154 - val_loss: 0.6048 - val_accuracy: 0.7934\n",
            "Epoch 78/200\n",
            "390/391 [============================>.] - ETA: 0s - loss: 0.5170 - accuracy: 0.8171\n",
            "Epoch 78: val_accuracy improved from 0.79970 to 0.80110, saving model to ./model_checkpoints/weights\n",
            "391/391 [==============================] - 4s 10ms/step - loss: 0.5173 - accuracy: 0.8170 - val_loss: 0.5836 - val_accuracy: 0.8011\n",
            "Epoch 79/200\n",
            "391/391 [==============================] - ETA: 0s - loss: 0.5122 - accuracy: 0.8188\n",
            "Epoch 79: val_accuracy did not improve from 0.80110\n",
            "391/391 [==============================] - 4s 11ms/step - loss: 0.5122 - accuracy: 0.8188 - val_loss: 0.5935 - val_accuracy: 0.7969\n",
            "Epoch 80/200\n",
            "387/391 [============================>.] - ETA: 0s - loss: 0.5055 - accuracy: 0.8201\n",
            "Epoch 80: val_accuracy did not improve from 0.80110\n",
            "391/391 [==============================] - 4s 11ms/step - loss: 0.5061 - accuracy: 0.8199 - val_loss: 0.6095 - val_accuracy: 0.7943\n",
            "Epoch 81/200\n",
            "387/391 [============================>.] - ETA: 0s - loss: 0.5022 - accuracy: 0.8234\n",
            "Epoch 81: val_accuracy did not improve from 0.80110\n",
            "391/391 [==============================] - 4s 10ms/step - loss: 0.5032 - accuracy: 0.8229 - val_loss: 0.5886 - val_accuracy: 0.8005\n",
            "Epoch 82/200\n",
            "387/391 [============================>.] - ETA: 0s - loss: 0.5023 - accuracy: 0.8221\n",
            "Epoch 82: val_accuracy did not improve from 0.80110\n",
            "391/391 [==============================] - 4s 10ms/step - loss: 0.5017 - accuracy: 0.8225 - val_loss: 0.6022 - val_accuracy: 0.7946\n",
            "Epoch 83/200\n",
            "391/391 [==============================] - ETA: 0s - loss: 0.4963 - accuracy: 0.8226\n",
            "Epoch 83: val_accuracy did not improve from 0.80110\n",
            "391/391 [==============================] - 4s 10ms/step - loss: 0.4963 - accuracy: 0.8226 - val_loss: 0.5834 - val_accuracy: 0.7985\n",
            "Epoch 84/200\n",
            "386/391 [============================>.] - ETA: 0s - loss: 0.4934 - accuracy: 0.8240\n",
            "Epoch 84: val_accuracy improved from 0.80110 to 0.80560, saving model to ./model_checkpoints/weights\n",
            "391/391 [==============================] - 4s 10ms/step - loss: 0.4934 - accuracy: 0.8240 - val_loss: 0.5722 - val_accuracy: 0.8056\n",
            "Epoch 85/200\n",
            "391/391 [==============================] - ETA: 0s - loss: 0.4939 - accuracy: 0.8252\n",
            "Epoch 85: val_accuracy did not improve from 0.80560\n",
            "391/391 [==============================] - 4s 11ms/step - loss: 0.4939 - accuracy: 0.8252 - val_loss: 0.5854 - val_accuracy: 0.8011\n",
            "Epoch 86/200\n",
            "386/391 [============================>.] - ETA: 0s - loss: 0.4846 - accuracy: 0.8274\n",
            "Epoch 86: val_accuracy did not improve from 0.80560\n",
            "391/391 [==============================] - 4s 10ms/step - loss: 0.4848 - accuracy: 0.8272 - val_loss: 0.5804 - val_accuracy: 0.8044\n",
            "Epoch 87/200\n",
            "386/391 [============================>.] - ETA: 0s - loss: 0.4778 - accuracy: 0.8307\n",
            "Epoch 87: val_accuracy did not improve from 0.80560\n",
            "391/391 [==============================] - 4s 11ms/step - loss: 0.4781 - accuracy: 0.8306 - val_loss: 0.5717 - val_accuracy: 0.8045\n",
            "Epoch 88/200\n",
            "388/391 [============================>.] - ETA: 0s - loss: 0.4776 - accuracy: 0.8308\n",
            "Epoch 88: val_accuracy improved from 0.80560 to 0.80790, saving model to ./model_checkpoints/weights\n",
            "391/391 [==============================] - 4s 11ms/step - loss: 0.4781 - accuracy: 0.8307 - val_loss: 0.5652 - val_accuracy: 0.8079\n",
            "Epoch 89/200\n",
            "390/391 [============================>.] - ETA: 0s - loss: 0.4724 - accuracy: 0.8321\n",
            "Epoch 89: val_accuracy did not improve from 0.80790\n",
            "391/391 [==============================] - 4s 11ms/step - loss: 0.4722 - accuracy: 0.8322 - val_loss: 0.5670 - val_accuracy: 0.8067\n",
            "Epoch 90/200\n",
            "391/391 [==============================] - ETA: 0s - loss: 0.4714 - accuracy: 0.8311\n",
            "Epoch 90: val_accuracy did not improve from 0.80790\n",
            "391/391 [==============================] - 4s 11ms/step - loss: 0.4714 - accuracy: 0.8311 - val_loss: 0.5783 - val_accuracy: 0.8054\n",
            "Epoch 91/200\n",
            "391/391 [==============================] - ETA: 0s - loss: 0.4627 - accuracy: 0.8356\n",
            "Epoch 91: val_accuracy did not improve from 0.80790\n",
            "391/391 [==============================] - 4s 11ms/step - loss: 0.4627 - accuracy: 0.8356 - val_loss: 0.5860 - val_accuracy: 0.8042\n",
            "Epoch 92/200\n",
            "390/391 [============================>.] - ETA: 0s - loss: 0.4609 - accuracy: 0.8366\n",
            "Epoch 92: val_accuracy did not improve from 0.80790\n",
            "391/391 [==============================] - 4s 10ms/step - loss: 0.4608 - accuracy: 0.8367 - val_loss: 0.5694 - val_accuracy: 0.8072\n",
            "Epoch 93/200\n",
            "387/391 [============================>.] - ETA: 0s - loss: 0.4589 - accuracy: 0.8374\n",
            "Epoch 93: val_accuracy improved from 0.80790 to 0.80930, saving model to ./model_checkpoints/weights\n",
            "391/391 [==============================] - 4s 11ms/step - loss: 0.4590 - accuracy: 0.8373 - val_loss: 0.5730 - val_accuracy: 0.8093\n",
            "Epoch 94/200\n",
            "390/391 [============================>.] - ETA: 0s - loss: 0.4543 - accuracy: 0.8378\n",
            "Epoch 94: val_accuracy did not improve from 0.80930\n",
            "391/391 [==============================] - 4s 11ms/step - loss: 0.4543 - accuracy: 0.8378 - val_loss: 0.5752 - val_accuracy: 0.8076\n",
            "Epoch 95/200\n",
            "387/391 [============================>.] - ETA: 0s - loss: 0.4541 - accuracy: 0.8396\n",
            "Epoch 95: val_accuracy did not improve from 0.80930\n",
            "391/391 [==============================] - 4s 10ms/step - loss: 0.4540 - accuracy: 0.8395 - val_loss: 0.5820 - val_accuracy: 0.8035\n",
            "Epoch 96/200\n",
            "389/391 [============================>.] - ETA: 0s - loss: 0.4514 - accuracy: 0.8394\n",
            "Epoch 96: val_accuracy improved from 0.80930 to 0.81350, saving model to ./model_checkpoints/weights\n",
            "391/391 [==============================] - 4s 10ms/step - loss: 0.4511 - accuracy: 0.8395 - val_loss: 0.5578 - val_accuracy: 0.8135\n",
            "Epoch 97/200\n",
            "388/391 [============================>.] - ETA: 0s - loss: 0.4436 - accuracy: 0.8395\n",
            "Epoch 97: val_accuracy did not improve from 0.81350\n",
            "391/391 [==============================] - 4s 10ms/step - loss: 0.4434 - accuracy: 0.8397 - val_loss: 0.5673 - val_accuracy: 0.8109\n",
            "Epoch 98/200\n",
            "386/391 [============================>.] - ETA: 0s - loss: 0.4397 - accuracy: 0.8420\n",
            "Epoch 98: val_accuracy did not improve from 0.81350\n",
            "391/391 [==============================] - 4s 11ms/step - loss: 0.4400 - accuracy: 0.8419 - val_loss: 0.5638 - val_accuracy: 0.8120\n",
            "Epoch 99/200\n",
            "390/391 [============================>.] - ETA: 0s - loss: 0.4385 - accuracy: 0.8429\n",
            "Epoch 99: val_accuracy did not improve from 0.81350\n",
            "391/391 [==============================] - 4s 10ms/step - loss: 0.4385 - accuracy: 0.8429 - val_loss: 0.5700 - val_accuracy: 0.8083\n",
            "Epoch 100/200\n",
            "388/391 [============================>.] - ETA: 0s - loss: 0.4342 - accuracy: 0.8457\n",
            "Epoch 100: val_accuracy improved from 0.81350 to 0.81460, saving model to ./model_checkpoints/weights\n",
            "391/391 [==============================] - 4s 11ms/step - loss: 0.4344 - accuracy: 0.8456 - val_loss: 0.5625 - val_accuracy: 0.8146\n",
            "Epoch 101/200\n",
            "388/391 [============================>.] - ETA: 0s - loss: 0.4301 - accuracy: 0.8466\n",
            "Epoch 101: val_accuracy did not improve from 0.81460\n",
            "391/391 [==============================] - 4s 11ms/step - loss: 0.4300 - accuracy: 0.8467 - val_loss: 0.5746 - val_accuracy: 0.8108\n",
            "Epoch 102/200\n",
            "387/391 [============================>.] - ETA: 0s - loss: 0.4270 - accuracy: 0.8469\n",
            "Epoch 102: val_accuracy did not improve from 0.81460\n",
            "391/391 [==============================] - 4s 11ms/step - loss: 0.4273 - accuracy: 0.8468 - val_loss: 0.5702 - val_accuracy: 0.8104\n",
            "Epoch 103/200\n",
            "391/391 [==============================] - ETA: 0s - loss: 0.4244 - accuracy: 0.8483\n",
            "Epoch 103: val_accuracy improved from 0.81460 to 0.81890, saving model to ./model_checkpoints/weights\n",
            "391/391 [==============================] - 4s 11ms/step - loss: 0.4244 - accuracy: 0.8483 - val_loss: 0.5486 - val_accuracy: 0.8189\n",
            "Epoch 104/200\n",
            "388/391 [============================>.] - ETA: 0s - loss: 0.4186 - accuracy: 0.8508\n",
            "Epoch 104: val_accuracy did not improve from 0.81890\n",
            "391/391 [==============================] - 5s 13ms/step - loss: 0.4182 - accuracy: 0.8510 - val_loss: 0.5536 - val_accuracy: 0.8169\n",
            "Epoch 105/200\n",
            "387/391 [============================>.] - ETA: 0s - loss: 0.4155 - accuracy: 0.8533\n",
            "Epoch 105: val_accuracy did not improve from 0.81890\n",
            "391/391 [==============================] - 5s 13ms/step - loss: 0.4157 - accuracy: 0.8532 - val_loss: 0.5589 - val_accuracy: 0.8155\n",
            "Epoch 106/200\n",
            "388/391 [============================>.] - ETA: 0s - loss: 0.4092 - accuracy: 0.8542\n",
            "Epoch 106: val_accuracy did not improve from 0.81890\n",
            "391/391 [==============================] - 5s 12ms/step - loss: 0.4087 - accuracy: 0.8545 - val_loss: 0.5723 - val_accuracy: 0.8133\n",
            "Epoch 107/200\n",
            "388/391 [============================>.] - ETA: 0s - loss: 0.4092 - accuracy: 0.8540\n",
            "Epoch 107: val_accuracy did not improve from 0.81890\n",
            "391/391 [==============================] - 5s 12ms/step - loss: 0.4091 - accuracy: 0.8538 - val_loss: 0.5786 - val_accuracy: 0.8110\n",
            "Epoch 108/200\n",
            "388/391 [============================>.] - ETA: 0s - loss: 0.4072 - accuracy: 0.8538\n",
            "Epoch 108: val_accuracy improved from 0.81890 to 0.82140, saving model to ./model_checkpoints/weights\n",
            "391/391 [==============================] - 4s 10ms/step - loss: 0.4075 - accuracy: 0.8537 - val_loss: 0.5479 - val_accuracy: 0.8214\n",
            "Epoch 109/200\n",
            "390/391 [============================>.] - ETA: 0s - loss: 0.4078 - accuracy: 0.8551\n",
            "Epoch 109: val_accuracy did not improve from 0.82140\n",
            "391/391 [==============================] - 4s 11ms/step - loss: 0.4077 - accuracy: 0.8551 - val_loss: 0.5574 - val_accuracy: 0.8162\n",
            "Epoch 110/200\n",
            "389/391 [============================>.] - ETA: 0s - loss: 0.3991 - accuracy: 0.8563\n",
            "Epoch 110: val_accuracy did not improve from 0.82140\n",
            "391/391 [==============================] - 5s 13ms/step - loss: 0.3989 - accuracy: 0.8564 - val_loss: 0.5629 - val_accuracy: 0.8176\n",
            "Epoch 111/200\n",
            "391/391 [==============================] - ETA: 0s - loss: 0.3952 - accuracy: 0.8587\n",
            "Epoch 111: val_accuracy did not improve from 0.82140\n",
            "391/391 [==============================] - 5s 12ms/step - loss: 0.3952 - accuracy: 0.8587 - val_loss: 0.5721 - val_accuracy: 0.8123\n",
            "Epoch 112/200\n",
            "387/391 [============================>.] - ETA: 0s - loss: 0.3966 - accuracy: 0.8578\n",
            "Epoch 112: val_accuracy improved from 0.82140 to 0.82230, saving model to ./model_checkpoints/weights\n",
            "391/391 [==============================] - 5s 12ms/step - loss: 0.3968 - accuracy: 0.8579 - val_loss: 0.5428 - val_accuracy: 0.8223\n",
            "Epoch 113/200\n",
            "391/391 [==============================] - ETA: 0s - loss: 0.3898 - accuracy: 0.8613\n",
            "Epoch 113: val_accuracy did not improve from 0.82230\n",
            "391/391 [==============================] - 5s 14ms/step - loss: 0.3898 - accuracy: 0.8613 - val_loss: 0.5628 - val_accuracy: 0.8168\n",
            "Epoch 114/200\n",
            "391/391 [==============================] - ETA: 0s - loss: 0.3888 - accuracy: 0.8623\n",
            "Epoch 114: val_accuracy did not improve from 0.82230\n",
            "391/391 [==============================] - 4s 11ms/step - loss: 0.3888 - accuracy: 0.8623 - val_loss: 0.5427 - val_accuracy: 0.8221\n",
            "Epoch 115/200\n",
            "388/391 [============================>.] - ETA: 0s - loss: 0.3886 - accuracy: 0.8628\n",
            "Epoch 115: val_accuracy did not improve from 0.82230\n",
            "391/391 [==============================] - 4s 11ms/step - loss: 0.3884 - accuracy: 0.8628 - val_loss: 0.5550 - val_accuracy: 0.8196\n",
            "Epoch 116/200\n",
            "391/391 [==============================] - ETA: 0s - loss: 0.3836 - accuracy: 0.8637\n",
            "Epoch 116: val_accuracy did not improve from 0.82230\n",
            "391/391 [==============================] - 4s 11ms/step - loss: 0.3836 - accuracy: 0.8637 - val_loss: 0.5478 - val_accuracy: 0.8221\n",
            "Epoch 117/200\n",
            "389/391 [============================>.] - ETA: 0s - loss: 0.3816 - accuracy: 0.8633\n",
            "Epoch 117: val_accuracy improved from 0.82230 to 0.82240, saving model to ./model_checkpoints/weights\n",
            "391/391 [==============================] - 4s 11ms/step - loss: 0.3815 - accuracy: 0.8632 - val_loss: 0.5499 - val_accuracy: 0.8224\n",
            "Epoch 118/200\n",
            "387/391 [============================>.] - ETA: 0s - loss: 0.3782 - accuracy: 0.8654\n",
            "Epoch 118: val_accuracy improved from 0.82240 to 0.82290, saving model to ./model_checkpoints/weights\n",
            "391/391 [==============================] - 4s 11ms/step - loss: 0.3778 - accuracy: 0.8653 - val_loss: 0.5475 - val_accuracy: 0.8229\n",
            "Epoch 119/200\n",
            "388/391 [============================>.] - ETA: 0s - loss: 0.3741 - accuracy: 0.8658\n",
            "Epoch 119: val_accuracy did not improve from 0.82290\n",
            "391/391 [==============================] - 5s 12ms/step - loss: 0.3738 - accuracy: 0.8660 - val_loss: 0.5493 - val_accuracy: 0.8204\n",
            "Epoch 120/200\n",
            "389/391 [============================>.] - ETA: 0s - loss: 0.3679 - accuracy: 0.8682\n",
            "Epoch 120: val_accuracy did not improve from 0.82290\n",
            "391/391 [==============================] - 5s 14ms/step - loss: 0.3677 - accuracy: 0.8682 - val_loss: 0.5464 - val_accuracy: 0.8212\n",
            "Epoch 121/200\n",
            "388/391 [============================>.] - ETA: 0s - loss: 0.3658 - accuracy: 0.8701\n",
            "Epoch 121: val_accuracy did not improve from 0.82290\n",
            "391/391 [==============================] - 5s 13ms/step - loss: 0.3658 - accuracy: 0.8702 - val_loss: 0.5619 - val_accuracy: 0.8163\n",
            "Epoch 122/200\n",
            "388/391 [============================>.] - ETA: 0s - loss: 0.3632 - accuracy: 0.8700\n",
            "Epoch 122: val_accuracy did not improve from 0.82290\n",
            "391/391 [==============================] - 5s 13ms/step - loss: 0.3632 - accuracy: 0.8700 - val_loss: 0.5520 - val_accuracy: 0.8222\n",
            "Epoch 123/200\n",
            "387/391 [============================>.] - ETA: 0s - loss: 0.3638 - accuracy: 0.8694\n",
            "Epoch 123: val_accuracy did not improve from 0.82290\n",
            "391/391 [==============================] - 4s 11ms/step - loss: 0.3643 - accuracy: 0.8693 - val_loss: 0.5540 - val_accuracy: 0.8171\n",
            "Epoch 124/200\n",
            "386/391 [============================>.] - ETA: 0s - loss: 0.3606 - accuracy: 0.8701\n",
            "Epoch 124: val_accuracy did not improve from 0.82290\n",
            "391/391 [==============================] - 5s 12ms/step - loss: 0.3604 - accuracy: 0.8701 - val_loss: 0.5563 - val_accuracy: 0.8205\n",
            "Epoch 125/200\n",
            "388/391 [============================>.] - ETA: 0s - loss: 0.3572 - accuracy: 0.8726\n",
            "Epoch 125: val_accuracy did not improve from 0.82290\n",
            "391/391 [==============================] - 5s 12ms/step - loss: 0.3571 - accuracy: 0.8726 - val_loss: 0.5732 - val_accuracy: 0.8144\n",
            "Epoch 126/200\n",
            "391/391 [==============================] - ETA: 0s - loss: 0.3553 - accuracy: 0.8740\n",
            "Epoch 126: val_accuracy did not improve from 0.82290\n",
            "391/391 [==============================] - 5s 12ms/step - loss: 0.3553 - accuracy: 0.8740 - val_loss: 0.5442 - val_accuracy: 0.8199\n",
            "Epoch 127/200\n",
            "390/391 [============================>.] - ETA: 0s - loss: 0.3543 - accuracy: 0.8718\n",
            "Epoch 127: val_accuracy improved from 0.82290 to 0.82380, saving model to ./model_checkpoints/weights\n",
            "391/391 [==============================] - 5s 12ms/step - loss: 0.3543 - accuracy: 0.8718 - val_loss: 0.5490 - val_accuracy: 0.8238\n",
            "Epoch 128/200\n",
            "388/391 [============================>.] - ETA: 0s - loss: 0.3485 - accuracy: 0.8759\n",
            "Epoch 128: val_accuracy did not improve from 0.82380\n",
            "391/391 [==============================] - 5s 12ms/step - loss: 0.3482 - accuracy: 0.8761 - val_loss: 0.5613 - val_accuracy: 0.8201\n",
            "Epoch 129/200\n",
            "388/391 [============================>.] - ETA: 0s - loss: 0.3442 - accuracy: 0.8753\n",
            "Epoch 129: val_accuracy did not improve from 0.82380\n",
            "391/391 [==============================] - 5s 12ms/step - loss: 0.3442 - accuracy: 0.8752 - val_loss: 0.5447 - val_accuracy: 0.8218\n",
            "Epoch 130/200\n",
            "389/391 [============================>.] - ETA: 0s - loss: 0.3408 - accuracy: 0.8768\n",
            "Epoch 130: val_accuracy did not improve from 0.82380\n",
            "391/391 [==============================] - 5s 12ms/step - loss: 0.3409 - accuracy: 0.8767 - val_loss: 0.5513 - val_accuracy: 0.8238\n",
            "Epoch 131/200\n",
            "386/391 [============================>.] - ETA: 0s - loss: 0.3415 - accuracy: 0.8752\n",
            "Epoch 131: val_accuracy did not improve from 0.82380\n",
            "391/391 [==============================] - 4s 11ms/step - loss: 0.3416 - accuracy: 0.8752 - val_loss: 0.5677 - val_accuracy: 0.8195\n",
            "Epoch 132/200\n",
            "386/391 [============================>.] - ETA: 0s - loss: 0.3389 - accuracy: 0.8787\n",
            "Epoch 132: val_accuracy did not improve from 0.82380\n",
            "391/391 [==============================] - 5s 12ms/step - loss: 0.3388 - accuracy: 0.8787 - val_loss: 0.5563 - val_accuracy: 0.8233\n",
            "Epoch 133/200\n",
            "388/391 [============================>.] - ETA: 0s - loss: 0.3392 - accuracy: 0.8797\n",
            "Epoch 133: val_accuracy did not improve from 0.82380\n",
            "391/391 [==============================] - 4s 11ms/step - loss: 0.3390 - accuracy: 0.8797 - val_loss: 0.5641 - val_accuracy: 0.8194\n",
            "Epoch 134/200\n",
            "390/391 [============================>.] - ETA: 0s - loss: 0.3319 - accuracy: 0.8819\n",
            "Epoch 134: val_accuracy did not improve from 0.82380\n",
            "391/391 [==============================] - 5s 12ms/step - loss: 0.3319 - accuracy: 0.8819 - val_loss: 0.5568 - val_accuracy: 0.8190\n",
            "Epoch 135/200\n",
            "390/391 [============================>.] - ETA: 0s - loss: 0.3299 - accuracy: 0.8822\n",
            "Epoch 135: val_accuracy did not improve from 0.82380\n",
            "391/391 [==============================] - 5s 12ms/step - loss: 0.3300 - accuracy: 0.8822 - val_loss: 0.5505 - val_accuracy: 0.8220\n",
            "Epoch 136/200\n",
            "389/391 [============================>.] - ETA: 0s - loss: 0.3308 - accuracy: 0.8818\n",
            "Epoch 136: val_accuracy did not improve from 0.82380\n",
            "391/391 [==============================] - 5s 13ms/step - loss: 0.3311 - accuracy: 0.8818 - val_loss: 0.5811 - val_accuracy: 0.8188\n",
            "Epoch 137/200\n",
            "388/391 [============================>.] - ETA: 0s - loss: 0.3244 - accuracy: 0.8841\n",
            "Epoch 137: val_accuracy did not improve from 0.82380\n",
            "391/391 [==============================] - 5s 13ms/step - loss: 0.3239 - accuracy: 0.8842 - val_loss: 0.5530 - val_accuracy: 0.8238\n",
            "Epoch 138/200\n",
            "387/391 [============================>.] - ETA: 0s - loss: 0.3211 - accuracy: 0.8843\n",
            "Epoch 138: val_accuracy improved from 0.82380 to 0.82500, saving model to ./model_checkpoints/weights\n",
            "391/391 [==============================] - 5s 12ms/step - loss: 0.3210 - accuracy: 0.8842 - val_loss: 0.5681 - val_accuracy: 0.8250\n",
            "Epoch 139/200\n",
            "387/391 [============================>.] - ETA: 0s - loss: 0.3191 - accuracy: 0.8851\n",
            "Epoch 139: val_accuracy did not improve from 0.82500\n",
            "391/391 [==============================] - 6s 14ms/step - loss: 0.3188 - accuracy: 0.8851 - val_loss: 0.5547 - val_accuracy: 0.8240\n",
            "Epoch 140/200\n",
            "390/391 [============================>.] - ETA: 0s - loss: 0.3175 - accuracy: 0.8848\n",
            "Epoch 140: val_accuracy improved from 0.82500 to 0.82750, saving model to ./model_checkpoints/weights\n",
            "391/391 [==============================] - 5s 12ms/step - loss: 0.3174 - accuracy: 0.8848 - val_loss: 0.5444 - val_accuracy: 0.8275\n",
            "Epoch 141/200\n",
            "387/391 [============================>.] - ETA: 0s - loss: 0.3112 - accuracy: 0.8879\n",
            "Epoch 141: val_accuracy did not improve from 0.82750\n",
            "391/391 [==============================] - 4s 11ms/step - loss: 0.3111 - accuracy: 0.8880 - val_loss: 0.5924 - val_accuracy: 0.8183\n",
            "Epoch 142/200\n",
            "386/391 [============================>.] - ETA: 0s - loss: 0.3142 - accuracy: 0.8851\n",
            "Epoch 142: val_accuracy did not improve from 0.82750\n",
            "391/391 [==============================] - 4s 11ms/step - loss: 0.3146 - accuracy: 0.8849 - val_loss: 0.5601 - val_accuracy: 0.8212\n",
            "Epoch 143/200\n",
            "387/391 [============================>.] - ETA: 0s - loss: 0.3143 - accuracy: 0.8858\n",
            "Epoch 143: val_accuracy did not improve from 0.82750\n",
            "391/391 [==============================] - 4s 11ms/step - loss: 0.3145 - accuracy: 0.8858 - val_loss: 0.5382 - val_accuracy: 0.8261\n",
            "Epoch 144/200\n",
            "389/391 [============================>.] - ETA: 0s - loss: 0.3093 - accuracy: 0.8890\n",
            "Epoch 144: val_accuracy did not improve from 0.82750\n",
            "391/391 [==============================] - 5s 14ms/step - loss: 0.3089 - accuracy: 0.8892 - val_loss: 0.5657 - val_accuracy: 0.8248\n",
            "Epoch 145/200\n",
            "389/391 [============================>.] - ETA: 0s - loss: 0.3103 - accuracy: 0.8886\n",
            "Epoch 145: val_accuracy did not improve from 0.82750\n",
            "391/391 [==============================] - 4s 11ms/step - loss: 0.3100 - accuracy: 0.8887 - val_loss: 0.5464 - val_accuracy: 0.8275\n",
            "Epoch 146/200\n",
            "386/391 [============================>.] - ETA: 0s - loss: 0.3041 - accuracy: 0.8900\n",
            "Epoch 146: val_accuracy did not improve from 0.82750\n",
            "391/391 [==============================] - 5s 12ms/step - loss: 0.3045 - accuracy: 0.8897 - val_loss: 0.5720 - val_accuracy: 0.8239\n",
            "Epoch 147/200\n",
            "389/391 [============================>.] - ETA: 0s - loss: 0.3029 - accuracy: 0.8912\n",
            "Epoch 147: val_accuracy did not improve from 0.82750\n",
            "391/391 [==============================] - 5s 12ms/step - loss: 0.3027 - accuracy: 0.8913 - val_loss: 0.5675 - val_accuracy: 0.8220\n",
            "Epoch 148/200\n",
            "388/391 [============================>.] - ETA: 0s - loss: 0.3000 - accuracy: 0.8920\n",
            "Epoch 148: val_accuracy improved from 0.82750 to 0.82940, saving model to ./model_checkpoints/weights\n",
            "391/391 [==============================] - 4s 11ms/step - loss: 0.3002 - accuracy: 0.8919 - val_loss: 0.5554 - val_accuracy: 0.8294\n",
            "Epoch 149/200\n",
            "390/391 [============================>.] - ETA: 0s - loss: 0.2995 - accuracy: 0.8914\n",
            "Epoch 149: val_accuracy did not improve from 0.82940\n",
            "391/391 [==============================] - 5s 11ms/step - loss: 0.2996 - accuracy: 0.8914 - val_loss: 0.5540 - val_accuracy: 0.8257\n",
            "Epoch 150/200\n",
            "390/391 [============================>.] - ETA: 0s - loss: 0.2916 - accuracy: 0.8946\n",
            "Epoch 150: val_accuracy did not improve from 0.82940\n",
            "391/391 [==============================] - 5s 12ms/step - loss: 0.2917 - accuracy: 0.8946 - val_loss: 0.5504 - val_accuracy: 0.8271\n",
            "Epoch 151/200\n",
            "390/391 [============================>.] - ETA: 0s - loss: 0.2940 - accuracy: 0.8930\n",
            "Epoch 151: val_accuracy did not improve from 0.82940\n",
            "391/391 [==============================] - 4s 11ms/step - loss: 0.2940 - accuracy: 0.8930 - val_loss: 0.5652 - val_accuracy: 0.8265\n",
            "Epoch 152/200\n",
            "387/391 [============================>.] - ETA: 0s - loss: 0.2892 - accuracy: 0.8958\n",
            "Epoch 152: val_accuracy did not improve from 0.82940\n",
            "391/391 [==============================] - 5s 12ms/step - loss: 0.2891 - accuracy: 0.8958 - val_loss: 0.5798 - val_accuracy: 0.8232\n",
            "Epoch 153/200\n",
            "391/391 [==============================] - ETA: 0s - loss: 0.2908 - accuracy: 0.8948\n",
            "Epoch 153: val_accuracy did not improve from 0.82940\n",
            "391/391 [==============================] - 6s 15ms/step - loss: 0.2908 - accuracy: 0.8948 - val_loss: 0.5566 - val_accuracy: 0.8250\n",
            "Epoch 154/200\n",
            "389/391 [============================>.] - ETA: 0s - loss: 0.2908 - accuracy: 0.8948\n",
            "Epoch 154: val_accuracy did not improve from 0.82940\n",
            "391/391 [==============================] - 6s 15ms/step - loss: 0.2907 - accuracy: 0.8949 - val_loss: 0.5540 - val_accuracy: 0.8274\n",
            "Epoch 155/200\n",
            "388/391 [============================>.] - ETA: 0s - loss: 0.2815 - accuracy: 0.8989\n",
            "Epoch 155: val_accuracy did not improve from 0.82940\n",
            "391/391 [==============================] - 5s 13ms/step - loss: 0.2814 - accuracy: 0.8990 - val_loss: 0.5704 - val_accuracy: 0.8270\n",
            "Epoch 156/200\n",
            "390/391 [============================>.] - ETA: 0s - loss: 0.2844 - accuracy: 0.8967\n",
            "Epoch 156: val_accuracy did not improve from 0.82940\n",
            "391/391 [==============================] - 5s 12ms/step - loss: 0.2843 - accuracy: 0.8967 - val_loss: 0.5603 - val_accuracy: 0.8264\n",
            "Epoch 157/200\n",
            "386/391 [============================>.] - ETA: 0s - loss: 0.2838 - accuracy: 0.8964\n",
            "Epoch 157: val_accuracy did not improve from 0.82940\n",
            "391/391 [==============================] - 5s 12ms/step - loss: 0.2837 - accuracy: 0.8963 - val_loss: 0.5676 - val_accuracy: 0.8263\n",
            "Epoch 158/200\n",
            "390/391 [============================>.] - ETA: 0s - loss: 0.2740 - accuracy: 0.9014\n",
            "Epoch 158: val_accuracy did not improve from 0.82940\n",
            "391/391 [==============================] - 5s 13ms/step - loss: 0.2744 - accuracy: 0.9013 - val_loss: 0.5772 - val_accuracy: 0.8240\n",
            "Epoch 159/200\n",
            "391/391 [==============================] - ETA: 0s - loss: 0.2808 - accuracy: 0.8972\n",
            "Epoch 159: val_accuracy did not improve from 0.82940\n",
            "391/391 [==============================] - 5s 12ms/step - loss: 0.2808 - accuracy: 0.8972 - val_loss: 0.5752 - val_accuracy: 0.8239\n",
            "Epoch 160/200\n",
            "391/391 [==============================] - ETA: 0s - loss: 0.2795 - accuracy: 0.8980\n",
            "Epoch 160: val_accuracy improved from 0.82940 to 0.83030, saving model to ./model_checkpoints/weights\n",
            "391/391 [==============================] - 5s 13ms/step - loss: 0.2795 - accuracy: 0.8980 - val_loss: 0.5620 - val_accuracy: 0.8303\n",
            "Epoch 161/200\n",
            "390/391 [============================>.] - ETA: 0s - loss: 0.2726 - accuracy: 0.9009\n",
            "Epoch 161: val_accuracy improved from 0.83030 to 0.83040, saving model to ./model_checkpoints/weights\n",
            "391/391 [==============================] - 5s 12ms/step - loss: 0.2725 - accuracy: 0.9009 - val_loss: 0.5590 - val_accuracy: 0.8304\n",
            "Epoch 162/200\n",
            "391/391 [==============================] - ETA: 0s - loss: 0.2693 - accuracy: 0.9020\n",
            "Epoch 162: val_accuracy did not improve from 0.83040\n",
            "391/391 [==============================] - 5s 12ms/step - loss: 0.2693 - accuracy: 0.9020 - val_loss: 0.5676 - val_accuracy: 0.8281\n",
            "Epoch 163/200\n",
            "386/391 [============================>.] - ETA: 0s - loss: 0.2748 - accuracy: 0.9017\n",
            "Epoch 163: val_accuracy did not improve from 0.83040\n",
            "391/391 [==============================] - 5s 12ms/step - loss: 0.2745 - accuracy: 0.9018 - val_loss: 0.5608 - val_accuracy: 0.8250\n",
            "Epoch 164/200\n",
            "389/391 [============================>.] - ETA: 0s - loss: 0.2667 - accuracy: 0.9041\n",
            "Epoch 164: val_accuracy did not improve from 0.83040\n",
            "391/391 [==============================] - 5s 12ms/step - loss: 0.2666 - accuracy: 0.9041 - val_loss: 0.5985 - val_accuracy: 0.8233\n",
            "Epoch 165/200\n",
            "389/391 [============================>.] - ETA: 0s - loss: 0.2663 - accuracy: 0.9027\n",
            "Epoch 165: val_accuracy did not improve from 0.83040\n",
            "391/391 [==============================] - 5s 12ms/step - loss: 0.2664 - accuracy: 0.9027 - val_loss: 0.5763 - val_accuracy: 0.8268\n",
            "Epoch 166/200\n",
            "388/391 [============================>.] - ETA: 0s - loss: 0.2609 - accuracy: 0.9056\n",
            "Epoch 166: val_accuracy did not improve from 0.83040\n",
            "391/391 [==============================] - 5s 13ms/step - loss: 0.2608 - accuracy: 0.9057 - val_loss: 0.5754 - val_accuracy: 0.8263\n",
            "Epoch 167/200\n",
            "388/391 [============================>.] - ETA: 0s - loss: 0.2633 - accuracy: 0.9049\n",
            "Epoch 167: val_accuracy did not improve from 0.83040\n",
            "391/391 [==============================] - 4s 11ms/step - loss: 0.2633 - accuracy: 0.9048 - val_loss: 0.5594 - val_accuracy: 0.8292\n",
            "Epoch 168/200\n",
            "387/391 [============================>.] - ETA: 0s - loss: 0.2595 - accuracy: 0.9051\n",
            "Epoch 168: val_accuracy did not improve from 0.83040\n",
            "391/391 [==============================] - 5s 12ms/step - loss: 0.2595 - accuracy: 0.9051 - val_loss: 0.5682 - val_accuracy: 0.8268\n",
            "Epoch 169/200\n",
            "391/391 [==============================] - ETA: 0s - loss: 0.2573 - accuracy: 0.9074\n",
            "Epoch 169: val_accuracy did not improve from 0.83040\n",
            "391/391 [==============================] - 5s 12ms/step - loss: 0.2573 - accuracy: 0.9074 - val_loss: 0.5675 - val_accuracy: 0.8277\n",
            "Epoch 170/200\n",
            "389/391 [============================>.] - ETA: 0s - loss: 0.2573 - accuracy: 0.9072\n",
            "Epoch 170: val_accuracy did not improve from 0.83040\n",
            "391/391 [==============================] - 5s 13ms/step - loss: 0.2575 - accuracy: 0.9070 - val_loss: 0.6019 - val_accuracy: 0.8246\n",
            "Epoch 171/200\n",
            "388/391 [============================>.] - ETA: 0s - loss: 0.2530 - accuracy: 0.9069\n",
            "Epoch 171: val_accuracy did not improve from 0.83040\n",
            "391/391 [==============================] - 5s 12ms/step - loss: 0.2531 - accuracy: 0.9069 - val_loss: 0.5679 - val_accuracy: 0.8288\n",
            "Epoch 172/200\n",
            "389/391 [============================>.] - ETA: 0s - loss: 0.2511 - accuracy: 0.9090\n",
            "Epoch 172: val_accuracy did not improve from 0.83040\n",
            "391/391 [==============================] - 5s 12ms/step - loss: 0.2509 - accuracy: 0.9090 - val_loss: 0.5653 - val_accuracy: 0.8298\n",
            "Epoch 173/200\n",
            "388/391 [============================>.] - ETA: 0s - loss: 0.2529 - accuracy: 0.9095\n",
            "Epoch 173: val_accuracy did not improve from 0.83040\n",
            "391/391 [==============================] - 5s 12ms/step - loss: 0.2532 - accuracy: 0.9094 - val_loss: 0.5720 - val_accuracy: 0.8261\n",
            "Epoch 174/200\n",
            "387/391 [============================>.] - ETA: 0s - loss: 0.2520 - accuracy: 0.9091\n",
            "Epoch 174: val_accuracy did not improve from 0.83040\n",
            "391/391 [==============================] - 5s 13ms/step - loss: 0.2517 - accuracy: 0.9093 - val_loss: 0.5803 - val_accuracy: 0.8245\n",
            "Epoch 175/200\n",
            "389/391 [============================>.] - ETA: 0s - loss: 0.2469 - accuracy: 0.9115\n",
            "Epoch 175: val_accuracy did not improve from 0.83040\n",
            "391/391 [==============================] - 5s 12ms/step - loss: 0.2473 - accuracy: 0.9113 - val_loss: 0.5887 - val_accuracy: 0.8291\n",
            "Epoch 176/200\n",
            "389/391 [============================>.] - ETA: 0s - loss: 0.2476 - accuracy: 0.9100\n",
            "Epoch 176: val_accuracy improved from 0.83040 to 0.83250, saving model to ./model_checkpoints/weights\n",
            "391/391 [==============================] - 5s 12ms/step - loss: 0.2475 - accuracy: 0.9101 - val_loss: 0.5546 - val_accuracy: 0.8325\n",
            "Epoch 177/200\n",
            "390/391 [============================>.] - ETA: 0s - loss: 0.2472 - accuracy: 0.9115\n",
            "Epoch 177: val_accuracy did not improve from 0.83250\n",
            "391/391 [==============================] - 5s 12ms/step - loss: 0.2472 - accuracy: 0.9114 - val_loss: 0.5833 - val_accuracy: 0.8286\n",
            "Epoch 178/200\n",
            "390/391 [============================>.] - ETA: 0s - loss: 0.2442 - accuracy: 0.9115\n",
            "Epoch 178: val_accuracy did not improve from 0.83250\n",
            "391/391 [==============================] - 5s 12ms/step - loss: 0.2442 - accuracy: 0.9115 - val_loss: 0.5689 - val_accuracy: 0.8306\n",
            "Epoch 179/200\n",
            "389/391 [============================>.] - ETA: 0s - loss: 0.2386 - accuracy: 0.9144\n",
            "Epoch 179: val_accuracy did not improve from 0.83250\n",
            "391/391 [==============================] - 5s 14ms/step - loss: 0.2390 - accuracy: 0.9143 - val_loss: 0.5706 - val_accuracy: 0.8290\n",
            "Epoch 180/200\n",
            "386/391 [============================>.] - ETA: 0s - loss: 0.2400 - accuracy: 0.9125\n",
            "Epoch 180: val_accuracy did not improve from 0.83250\n",
            "391/391 [==============================] - 5s 13ms/step - loss: 0.2400 - accuracy: 0.9125 - val_loss: 0.5903 - val_accuracy: 0.8279\n",
            "Epoch 181/200\n",
            "389/391 [============================>.] - ETA: 0s - loss: 0.2394 - accuracy: 0.9124\n",
            "Epoch 181: val_accuracy did not improve from 0.83250\n",
            "391/391 [==============================] - 4s 11ms/step - loss: 0.2392 - accuracy: 0.9124 - val_loss: 0.5862 - val_accuracy: 0.8280\n",
            "Epoch 182/200\n",
            "391/391 [==============================] - ETA: 0s - loss: 0.2371 - accuracy: 0.9138\n",
            "Epoch 182: val_accuracy did not improve from 0.83250\n",
            "391/391 [==============================] - 4s 11ms/step - loss: 0.2371 - accuracy: 0.9138 - val_loss: 0.5696 - val_accuracy: 0.8306\n",
            "Epoch 183/200\n",
            "386/391 [============================>.] - ETA: 0s - loss: 0.2348 - accuracy: 0.9147\n",
            "Epoch 183: val_accuracy did not improve from 0.83250\n",
            "391/391 [==============================] - 5s 12ms/step - loss: 0.2351 - accuracy: 0.9145 - val_loss: 0.5714 - val_accuracy: 0.8304\n",
            "Epoch 184/200\n",
            "387/391 [============================>.] - ETA: 0s - loss: 0.2369 - accuracy: 0.9124\n",
            "Epoch 184: val_accuracy did not improve from 0.83250\n",
            "391/391 [==============================] - 5s 12ms/step - loss: 0.2368 - accuracy: 0.9125 - val_loss: 0.5905 - val_accuracy: 0.8285\n",
            "Epoch 185/200\n",
            "386/391 [============================>.] - ETA: 0s - loss: 0.2305 - accuracy: 0.9146\n",
            "Epoch 185: val_accuracy did not improve from 0.83250\n",
            "391/391 [==============================] - 4s 11ms/step - loss: 0.2306 - accuracy: 0.9147 - val_loss: 0.5940 - val_accuracy: 0.8272\n",
            "Epoch 186/200\n",
            "387/391 [============================>.] - ETA: 0s - loss: 0.2294 - accuracy: 0.9166\n",
            "Epoch 186: val_accuracy did not improve from 0.83250\n",
            "391/391 [==============================] - 4s 11ms/step - loss: 0.2294 - accuracy: 0.9167 - val_loss: 0.5832 - val_accuracy: 0.8281\n",
            "Epoch 187/200\n",
            "388/391 [============================>.] - ETA: 0s - loss: 0.2336 - accuracy: 0.9153\n",
            "Epoch 187: val_accuracy did not improve from 0.83250\n",
            "391/391 [==============================] - 4s 11ms/step - loss: 0.2334 - accuracy: 0.9154 - val_loss: 0.5701 - val_accuracy: 0.8303\n",
            "Epoch 188/200\n",
            "391/391 [==============================] - ETA: 0s - loss: 0.2300 - accuracy: 0.9155\n",
            "Epoch 188: val_accuracy did not improve from 0.83250\n",
            "391/391 [==============================] - 5s 12ms/step - loss: 0.2300 - accuracy: 0.9155 - val_loss: 0.5829 - val_accuracy: 0.8307\n",
            "Epoch 189/200\n",
            "389/391 [============================>.] - ETA: 0s - loss: 0.2252 - accuracy: 0.9177\n",
            "Epoch 189: val_accuracy did not improve from 0.83250\n",
            "391/391 [==============================] - 4s 11ms/step - loss: 0.2251 - accuracy: 0.9178 - val_loss: 0.5784 - val_accuracy: 0.8279\n",
            "Epoch 190/200\n",
            "386/391 [============================>.] - ETA: 0s - loss: 0.2226 - accuracy: 0.9183\n",
            "Epoch 190: val_accuracy did not improve from 0.83250\n",
            "391/391 [==============================] - 5s 12ms/step - loss: 0.2229 - accuracy: 0.9181 - val_loss: 0.6034 - val_accuracy: 0.8290\n",
            "Epoch 191/200\n",
            "387/391 [============================>.] - ETA: 0s - loss: 0.2199 - accuracy: 0.9203\n",
            "Epoch 191: val_accuracy did not improve from 0.83250\n",
            "391/391 [==============================] - 4s 11ms/step - loss: 0.2198 - accuracy: 0.9203 - val_loss: 0.5968 - val_accuracy: 0.8292\n",
            "Epoch 192/200\n",
            "390/391 [============================>.] - ETA: 0s - loss: 0.2183 - accuracy: 0.9214\n",
            "Epoch 192: val_accuracy did not improve from 0.83250\n",
            "391/391 [==============================] - 5s 12ms/step - loss: 0.2182 - accuracy: 0.9214 - val_loss: 0.6201 - val_accuracy: 0.8266\n",
            "Epoch 193/200\n",
            "391/391 [==============================] - ETA: 0s - loss: 0.2177 - accuracy: 0.9210\n",
            "Epoch 193: val_accuracy did not improve from 0.83250\n",
            "391/391 [==============================] - 4s 11ms/step - loss: 0.2177 - accuracy: 0.9210 - val_loss: 0.5971 - val_accuracy: 0.8271\n",
            "Epoch 194/200\n",
            "387/391 [============================>.] - ETA: 0s - loss: 0.2149 - accuracy: 0.9217\n",
            "Epoch 194: val_accuracy did not improve from 0.83250\n",
            "391/391 [==============================] - 4s 11ms/step - loss: 0.2149 - accuracy: 0.9216 - val_loss: 0.5770 - val_accuracy: 0.8323\n",
            "Epoch 195/200\n",
            "388/391 [============================>.] - ETA: 0s - loss: 0.2188 - accuracy: 0.9213\n",
            "Epoch 195: val_accuracy did not improve from 0.83250\n",
            "391/391 [==============================] - 4s 11ms/step - loss: 0.2189 - accuracy: 0.9213 - val_loss: 0.6063 - val_accuracy: 0.8259\n",
            "Epoch 196/200\n",
            "387/391 [============================>.] - ETA: 0s - loss: 0.2157 - accuracy: 0.9213\n",
            "Epoch 196: val_accuracy did not improve from 0.83250\n",
            "391/391 [==============================] - 5s 12ms/step - loss: 0.2159 - accuracy: 0.9213 - val_loss: 0.5834 - val_accuracy: 0.8303\n",
            "Epoch 197/200\n",
            "388/391 [============================>.] - ETA: 0s - loss: 0.2129 - accuracy: 0.9217\n",
            "Epoch 197: val_accuracy did not improve from 0.83250\n",
            "391/391 [==============================] - 5s 12ms/step - loss: 0.2127 - accuracy: 0.9218 - val_loss: 0.6394 - val_accuracy: 0.8215\n",
            "Epoch 198/200\n",
            "390/391 [============================>.] - ETA: 0s - loss: 0.2139 - accuracy: 0.9231\n",
            "Epoch 198: val_accuracy did not improve from 0.83250\n",
            "391/391 [==============================] - 5s 12ms/step - loss: 0.2139 - accuracy: 0.9231 - val_loss: 0.5862 - val_accuracy: 0.8305\n",
            "Epoch 199/200\n",
            "388/391 [============================>.] - ETA: 0s - loss: 0.2087 - accuracy: 0.9237\n",
            "Epoch 199: val_accuracy did not improve from 0.83250\n",
            "391/391 [==============================] - 5s 13ms/step - loss: 0.2086 - accuracy: 0.9237 - val_loss: 0.5970 - val_accuracy: 0.8305\n",
            "Epoch 200/200\n",
            "389/391 [============================>.] - ETA: 0s - loss: 0.2069 - accuracy: 0.9241\n",
            "Epoch 200: val_accuracy improved from 0.83250 to 0.83300, saving model to ./model_checkpoints/weights\n",
            "391/391 [==============================] - 5s 12ms/step - loss: 0.2069 - accuracy: 0.9242 - val_loss: 0.5933 - val_accuracy: 0.8330\n"
          ]
        }
      ],
      "source": [
        "teacher_history = teacher.fit(x_train,\n",
        "                              y_train, \n",
        "                              epochs=200, \n",
        "                              batch_size=128, \n",
        "                              validation_data=(x_test, y_test),\n",
        "                              callbacks=[model_checkpoint_callback])"
      ]
    },
    {
      "cell_type": "markdown",
      "metadata": {
        "id": "fBc-AuEhE_DW"
      },
      "source": [
        "#### Predict Teacher"
      ]
    },
    {
      "cell_type": "code",
      "execution_count": 9,
      "metadata": {
        "colab": {
          "base_uri": "https://localhost:8080/"
        },
        "id": "SdKnACCxE8zQ",
        "outputId": "f07950d6-3de8-49d7-e11a-92cdf45e1bc8"
      },
      "outputs": [
        {
          "name": "stdout",
          "output_type": "stream",
          "text": [
            "313/313 [==============================] - 1s 3ms/step - loss: 0.5933 - accuracy: 0.8330\n"
          ]
        },
        {
          "data": {
            "text/plain": [
              "[0.5932736396789551, 0.8330000042915344]"
            ]
          },
          "execution_count": 9,
          "metadata": {},
          "output_type": "execute_result"
        }
      ],
      "source": [
        "teacher.evaluate(x_test, y_test)"
      ]
    },
    {
      "cell_type": "markdown",
      "metadata": {
        "id": "jhlpnUhlKT1i"
      },
      "source": [
        "#### Teacher Graphs"
      ]
    },
    {
      "cell_type": "code",
      "execution_count": 10,
      "metadata": {
        "colab": {
          "base_uri": "https://localhost:8080/",
          "height": 247
        },
        "id": "F8zX7oSiKOVP",
        "outputId": "cee54ad6-f1c1-4d7c-97b2-8bbbbeefe2b0"
      },
      "outputs": [
        {
          "data": {
            "image/png": "[encoded data removed]",
            "text/plain": [
              "<Figure size 1008x216 with 2 Axes>"
            ]
          },
          "metadata": {
            "needs_background": "light"
          },
          "output_type": "display_data"
        }
      ],
      "source": [
        "plot_graphs(teacher_history, \"TEACHER MODEL\")"
      ]
    },
    {
      "cell_type": "markdown",
      "metadata": {
        "id": "CQsL4aujFpSn"
      },
      "source": [
        "#### Teacher Hint Layers"
      ]
    },
    {
      "cell_type": "code",
      "execution_count": 13,
      "metadata": {
        "colab": {
          "base_uri": "https://localhost:8080/"
        },
        "id": "COlm5KvYFtfV",
        "outputId": "5336a3b2-567d-401c-e0b8-6877bd3b1ed8"
      },
      "outputs": [
        {
          "name": "stdout",
          "output_type": "stream",
          "text": [
            "TEACHER HINT SUMMARY\n",
            "Model: \"model_4\"\n",
            "_________________________________________________________________\n",
            " Layer (type)                Output Shape              Param #   \n",
            "=================================================================\n",
            " input_1 (InputLayer)        [(None, 32, 32, 3)]       0         \n",
            "                                                                 \n",
            " conv2d (Conv2D)             (None, 32, 32, 32)        896       \n",
            "                                                                 \n",
            " conv2d_1 (Conv2D)           (None, 32, 32, 32)        9248      \n",
            "                                                                 \n",
            " max_pooling2d (MaxPooling2D  (None, 16, 16, 32)       0         \n",
            " )                                                               \n",
            "                                                                 \n",
            " dropout (Dropout)           (None, 16, 16, 32)        0         \n",
            "                                                                 \n",
            " conv2d_2 (Conv2D)           (None, 16, 16, 64)        18496     \n",
            "                                                                 \n",
            " conv2d_3 (Conv2D)           (None, 16, 16, 64)        36928     \n",
            "                                                                 \n",
            "=================================================================\n",
            "Total params: 65,568\n",
            "Trainable params: 65,568\n",
            "Non-trainable params: 0\n",
            "_________________________________________________________________\n",
            "None\n"
          ]
        }
      ],
      "source": [
        "teacher_hint = keras.models.Model(inputs=t_inputs, outputs=t_6)\n",
        "teacher_hint.compile(optimizer=opt, loss='categorical_crossentropy', metrics=['accuracy'])\n",
        "print(\"TEACHER HINT SUMMARY\")\n",
        "print(teacher_hint.summary())"
      ]
    },
    {
      "cell_type": "markdown",
      "metadata": {
        "id": "b8bN9n1K5N82"
      },
      "source": [
        "# STUDENT"
      ]
    },
    {
      "cell_type": "markdown",
      "metadata": {
        "id": "fEhdaNYMFw7K"
      },
      "source": [
        "#### Student Model"
      ]
    },
    {
      "cell_type": "code",
      "execution_count": 30,
      "metadata": {
        "id": "xpJYi-7LFwmc"
      },
      "outputs": [],
      "source": [
        "s_inputs = keras.Input(shape=(32, 32, 3))\n",
        "\n",
        "s_1 = Conv2D(16, (3, 3), activation='relu', kernel_initializer='he_uniform')(s_inputs)\n",
        "s_2 = Conv2D(16, (3, 3), activation='relu', kernel_initializer='he_uniform', padding='same')(s_1)\n",
        "\n",
        "s_3 = Conv2D(32, (3, 3), activation='relu', kernel_initializer='he_uniform')(s_2)\n",
        "s_4 = Conv2D(32, (3, 3), activation='relu', kernel_initializer='he_uniform', padding='same')(s_3)\n",
        "\n",
        "s_5 = Conv2D(32, (3, 3), activation='relu', kernel_initializer='he_uniform')(s_4)\n",
        "s_6 = Conv2D(32, (3, 3), activation='relu', kernel_initializer='he_uniform', padding='same')(s_5)\n",
        "\n",
        "S_regressor = Conv2D(64, (11,11), activation='relu', kernel_initializer='he_uniform')(s_6)\n",
        "\n",
        "s_7 = Conv2D(64, (3, 3), activation='relu', kernel_initializer='he_uniform')(s_6)\n",
        "s_8 = Conv2D(64, (3, 3), activation='relu', kernel_initializer='he_uniform', padding='same')(s_7)\n",
        "s_9 = MaxPooling2D((2, 2))(s_8)\n",
        "\n",
        "s_10 = Conv2D(64, (3, 3), activation='relu', kernel_initializer='he_uniform')(s_9)\n",
        "s_11 = Conv2D(64, (3, 3), activation='relu', kernel_initializer='he_uniform', padding='same')(s_10)\n",
        "s_12 = MaxPooling2D((2, 2))(s_11)\n",
        "\n",
        "s_13 = Flatten()(s_12)\n",
        "s_14 = Dense(64, activation='relu', kernel_initializer='he_uniform')(s_13)\n",
        "\n",
        "s_outputs = Dense(10, activation='softmax')(s_14)\n",
        "\n",
        "# build model\n",
        "student = keras.models.Model(inputs=s_inputs, outputs=s_outputs)\n",
        "\n",
        "# Guided Layers\n",
        "student_guided = keras.models.Model(inputs=s_inputs, outputs=S_regressor)\n",
        "\n",
        "\n",
        "# compile student model\n",
        "student.compile(optimizer=opt, loss='categorical_crossentropy', metrics=['accuracy'])"
      ]
    },
    {
      "cell_type": "markdown",
      "metadata": {
        "id": "tluu6T0g4aC0"
      },
      "source": [
        "# STUDENT BASELINE MODEL"
      ]
    },
    {
      "cell_type": "markdown",
      "metadata": {
        "id": "ncCR1mUSHpPK"
      },
      "source": [
        "#### Baseline Model"
      ]
    },
    {
      "cell_type": "code",
      "execution_count": 31,
      "metadata": {
        "colab": {
          "base_uri": "https://localhost:8080/"
        },
        "id": "-Psjzs3pHoaT",
        "outputId": "aed3bc6e-90c7-42a4-d338-947e36db98bb"
      },
      "outputs": [
        {
          "name": "stdout",
          "output_type": "stream",
          "text": [
            "BASELINE STUDENT MODEL\n",
            "Model: \"model_7\"\n",
            "_________________________________________________________________\n",
            " Layer (type)                Output Shape              Param #   \n",
            "=================================================================\n",
            " input_4 (InputLayer)        [(None, 32, 32, 3)]       0         \n",
            "                                                                 \n",
            " conv2d_28 (Conv2D)          (None, 30, 30, 16)        448       \n",
            "                                                                 \n",
            " conv2d_29 (Conv2D)          (None, 30, 30, 16)        2320      \n",
            "                                                                 \n",
            " conv2d_30 (Conv2D)          (None, 28, 28, 32)        4640      \n",
            "                                                                 \n",
            " conv2d_31 (Conv2D)          (None, 28, 28, 32)        9248      \n",
            "                                                                 \n",
            " conv2d_32 (Conv2D)          (None, 26, 26, 32)        9248      \n",
            "                                                                 \n",
            " conv2d_33 (Conv2D)          (None, 26, 26, 32)        9248      \n",
            "                                                                 \n",
            " conv2d_35 (Conv2D)          (None, 24, 24, 64)        18496     \n",
            "                                                                 \n",
            " conv2d_36 (Conv2D)          (None, 24, 24, 64)        36928     \n",
            "                                                                 \n",
            " max_pooling2d_7 (MaxPooling  (None, 12, 12, 64)       0         \n",
            " 2D)                                                             \n",
            "                                                                 \n",
            " conv2d_37 (Conv2D)          (None, 10, 10, 64)        36928     \n",
            "                                                                 \n",
            " conv2d_38 (Conv2D)          (None, 10, 10, 64)        36928     \n",
            "                                                                 \n",
            " max_pooling2d_8 (MaxPooling  (None, 5, 5, 64)         0         \n",
            " 2D)                                                             \n",
            "                                                                 \n",
            " flatten_3 (Flatten)         (None, 1600)              0         \n",
            "                                                                 \n",
            " dense_6 (Dense)             (None, 64)                102464    \n",
            "                                                                 \n",
            " dense_7 (Dense)             (None, 10)                650       \n",
            "                                                                 \n",
            "=================================================================\n",
            "Total params: 267,546\n",
            "Trainable params: 267,546\n",
            "Non-trainable params: 0\n",
            "_________________________________________________________________\n",
            "None\n"
          ]
        }
      ],
      "source": [
        "student_baseline = keras.models.clone_model(student)\n",
        "print(\"BASELINE STUDENT MODEL\")\n",
        "print(student_baseline.summary())"
      ]
    },
    {
      "cell_type": "markdown",
      "metadata": {
        "id": "mUroHVDZYrLo"
      },
      "source": [
        "#### Baseline Training"
      ]
    },
    {
      "cell_type": "code",
      "execution_count": 32,
      "metadata": {
        "colab": {
          "base_uri": "https://localhost:8080/"
        },
        "id": "ZywQhs3YYxF6",
        "outputId": "57848b75-7114-41df-9b28-83cb55aa7b1f"
      },
      "outputs": [
        {
          "name": "stdout",
          "output_type": "stream",
          "text": [
            "Epoch 1/15\n",
            "782/782 [==============================] - 10s 12ms/step - loss: 1.9299 - categorical_accuracy: 0.2912 - val_loss: 1.6657 - val_categorical_accuracy: 0.4003\n",
            "Epoch 2/15\n",
            "782/782 [==============================] - 9s 11ms/step - loss: 1.5792 - categorical_accuracy: 0.4258 - val_loss: 1.5649 - val_categorical_accuracy: 0.4361\n",
            "Epoch 3/15\n",
            "782/782 [==============================] - 8s 11ms/step - loss: 1.4377 - categorical_accuracy: 0.4793 - val_loss: 1.3762 - val_categorical_accuracy: 0.4996\n",
            "Epoch 4/15\n",
            "782/782 [==============================] - 8s 11ms/step - loss: 1.3344 - categorical_accuracy: 0.5213 - val_loss: 1.3169 - val_categorical_accuracy: 0.5183\n",
            "Epoch 5/15\n",
            "782/782 [==============================] - 8s 11ms/step - loss: 1.2569 - categorical_accuracy: 0.5506 - val_loss: 1.2954 - val_categorical_accuracy: 0.5340\n",
            "Epoch 6/15\n",
            "782/782 [==============================] - 9s 11ms/step - loss: 1.1869 - categorical_accuracy: 0.5793 - val_loss: 1.2032 - val_categorical_accuracy: 0.5729\n",
            "Epoch 7/15\n",
            "782/782 [==============================] - 9s 11ms/step - loss: 1.1202 - categorical_accuracy: 0.6028 - val_loss: 1.1488 - val_categorical_accuracy: 0.5926\n",
            "Epoch 8/15\n",
            "782/782 [==============================] - 8s 11ms/step - loss: 1.0639 - categorical_accuracy: 0.6254 - val_loss: 1.1321 - val_categorical_accuracy: 0.5996\n",
            "Epoch 9/15\n",
            "782/782 [==============================] - 8s 11ms/step - loss: 1.0099 - categorical_accuracy: 0.6430 - val_loss: 1.1223 - val_categorical_accuracy: 0.6047\n",
            "Epoch 10/15\n",
            "782/782 [==============================] - 9s 11ms/step - loss: 0.9683 - categorical_accuracy: 0.6577 - val_loss: 1.0861 - val_categorical_accuracy: 0.6182\n",
            "Epoch 11/15\n",
            "782/782 [==============================] - 9s 11ms/step - loss: 0.9206 - categorical_accuracy: 0.6760 - val_loss: 1.0725 - val_categorical_accuracy: 0.6236\n",
            "Epoch 12/15\n",
            "782/782 [==============================] - 9s 11ms/step - loss: 0.8849 - categorical_accuracy: 0.6870 - val_loss: 1.0157 - val_categorical_accuracy: 0.6455\n",
            "Epoch 13/15\n",
            "782/782 [==============================] - 9s 11ms/step - loss: 0.8418 - categorical_accuracy: 0.7041 - val_loss: 1.0264 - val_categorical_accuracy: 0.6495\n",
            "Epoch 14/15\n",
            "782/782 [==============================] - 9s 11ms/step - loss: 0.8089 - categorical_accuracy: 0.7151 - val_loss: 1.0956 - val_categorical_accuracy: 0.6349\n",
            "Epoch 15/15\n",
            "782/782 [==============================] - 9s 11ms/step - loss: 0.7735 - categorical_accuracy: 0.7289 - val_loss: 1.0080 - val_categorical_accuracy: 0.6496\n"
          ]
        }
      ],
      "source": [
        "student_baseline.compile(\n",
        "    optimizer = opt,\n",
        "    loss = tf.keras.losses.CategoricalCrossentropy(),\n",
        "    metrics = tf.keras.metrics.CategoricalAccuracy(),\n",
        ")\n",
        "\n",
        "# Train and evaluate student trained from scratch.\n",
        "baseline_history = student_baseline.fit(x_train, y_train, epochs=15, batch_size=64, validation_data=(x_test, y_test))"
      ]
    },
    {
      "cell_type": "markdown",
      "metadata": {
        "id": "vLBEf9jJYyAD"
      },
      "source": [
        "#### Baseline Predict"
      ]
    },
    {
      "cell_type": "code",
      "execution_count": 33,
      "metadata": {
        "colab": {
          "base_uri": "https://localhost:8080/"
        },
        "id": "KI16CbHkY0LV",
        "outputId": "ca459586-511a-41b3-d15f-0f8892ab7f0e"
      },
      "outputs": [
        {
          "name": "stdout",
          "output_type": "stream",
          "text": [
            "313/313 [==============================] - 1s 4ms/step - loss: 1.0080 - categorical_accuracy: 0.6496\n"
          ]
        },
        {
          "data": {
            "text/plain": [
              "[1.0079782009124756, 0.6496000289916992]"
            ]
          },
          "execution_count": 33,
          "metadata": {},
          "output_type": "execute_result"
        }
      ],
      "source": [
        "student_baseline.evaluate(x_test, y_test)"
      ]
    },
    {
      "cell_type": "markdown",
      "metadata": {
        "id": "OziZSr0rY6vl"
      },
      "source": [
        "#### Plot Baseline Student Graphs"
      ]
    },
    {
      "cell_type": "code",
      "execution_count": 34,
      "metadata": {
        "colab": {
          "base_uri": "https://localhost:8080/",
          "height": 247
        },
        "id": "KWCKqvTVY6CX",
        "outputId": "6dbda6e7-3e07-49b2-a96f-2a33f144bdd1"
      },
      "outputs": [
        {
          "data": {
            "image/png": "[encoded data removed]",
            "text/plain": [
              "<Figure size 1008x216 with 2 Axes>"
            ]
          },
          "metadata": {
            "needs_background": "light"
          },
          "output_type": "display_data"
        }
      ],
      "source": [
        "plot_graphs(baseline_history, \"BASELINE STUDENT MODEL\", \"categorical_accuracy\", \"val_categorical_accuracy\")"
      ]
    },
    {
      "cell_type": "markdown",
      "metadata": {
        "id": "Qtg6V2k_HxbJ"
      },
      "source": [
        "## Distiller Class"
      ]
    },
    {
      "cell_type": "code",
      "execution_count": 35,
      "metadata": {
        "id": "wTjf9sF5H1mD"
      },
      "outputs": [],
      "source": [
        "class Distiller(keras.Model):\n",
        "    def __init__(self, student, teacher):\n",
        "        super(Distiller, self).__init__()\n",
        "        self.teacher = teacher\n",
        "        self.student = student\n",
        "\n",
        "    def compile(\n",
        "        self,\n",
        "        optimizer,\n",
        "        metrics,\n",
        "        student_loss_fn,\n",
        "        distillation_loss_fn,\n",
        "        alpha=0.1,\n",
        "        temperature=3,\n",
        "        is_KD_train = False,\n",
        "    ):\n",
        "        super(Distiller, self).compile(optimizer=optimizer, metrics=metrics)\n",
        "        self.student_loss_fn = student_loss_fn\n",
        "        self.distillation_loss_fn = distillation_loss_fn\n",
        "        self.alpha = alpha\n",
        "        self.temperature = temperature\n",
        "        self.is_KD_train = is_KD_train\n",
        "\n",
        "    def train_step(self, data):\n",
        "        # Unpack data\n",
        "        x, y = data\n",
        "\n",
        "        # Forward pass of teacher\n",
        "        teacher_predictions = self.teacher(x, training=False)\n",
        "\n",
        "        with tf.GradientTape() as tape:\n",
        "            # Forward pass of student\n",
        "            student_predictions = self.student(x, training=True)\n",
        "\n",
        "            # Compute losses\n",
        "            if(self.is_KD_train):\n",
        "                student_loss = self.student_loss_fn(y, student_predictions)\n",
        "            else:\n",
        "                student_loss = 0.0\n",
        "\n",
        "            distillation_loss = self.distillation_loss_fn(\n",
        "                tf.nn.softmax(teacher_predictions / self.temperature, axis=1),\n",
        "                tf.nn.softmax(student_predictions / self.temperature, axis=1),\n",
        "            )\n",
        "\n",
        "            loss = self.alpha * distillation_loss + (1 - self.alpha) * student_loss\n",
        "\n",
        "        # Compute gradients\n",
        "        trainable_vars = self.student.trainable_variables\n",
        "        gradients = tape.gradient(loss, trainable_vars)\n",
        "\n",
        "        # Update weights\n",
        "        self.optimizer.apply_gradients(zip(gradients, trainable_vars))\n",
        "\n",
        "        # Update the metrics configured in `compile()`.\n",
        "        if(self.is_KD_train):\n",
        "            self.compiled_metrics.update_state(y, student_predictions)\n",
        "        else:\n",
        "            self.compiled_metrics.update_state(teacher_predictions, student_predictions)\n",
        "\n",
        "        # Return a dict of performance\n",
        "        results = {m.name: m.result() for m in self.metrics}\n",
        "        results.update(\n",
        "            {\"total_loss\": loss, \"student_loss\": student_loss, \"distillation_loss\": distillation_loss}\n",
        "        )\n",
        "        return results\n",
        "\n",
        "    def test_step(self, data):\n",
        "        # Unpack the data\n",
        "        x, y = data\n",
        "\n",
        "        # Compute predictions\n",
        "        y_prediction = self.student(x, training=False)\n",
        "\n",
        "        # Calculate the loss\n",
        "        student_loss = self.student_loss_fn(y, y_prediction)\n",
        "\n",
        "        # Update the metrics.\n",
        "        self.compiled_metrics.update_state(y, y_prediction)\n",
        "\n",
        "        # Return a dict of performance\n",
        "        results = {m.name: m.result() for m in self.metrics}\n",
        "        results.update({\"student_loss\": student_loss})\n",
        "        return results"
      ]
    },
    {
      "cell_type": "markdown",
      "metadata": {
        "id": "m1ny50sUz3tg"
      },
      "source": [
        "# Response Based Learning"
      ]
    },
    {
      "cell_type": "markdown",
      "metadata": {
        "id": "8ExoAj_s3MYJ"
      },
      "source": [
        "#### Response Based Student Model"
      ]
    },
    {
      "cell_type": "code",
      "execution_count": 36,
      "metadata": {
        "colab": {
          "base_uri": "https://localhost:8080/"
        },
        "id": "XomIXQxt3OAK",
        "outputId": "c66f16b0-28ae-442c-92cd-22071d71433c"
      },
      "outputs": [
        {
          "name": "stdout",
          "output_type": "stream",
          "text": [
            "STUDENT MODEL (RESPONSE BASED LEARNING)\n",
            "Model: \"model_7\"\n",
            "_________________________________________________________________\n",
            " Layer (type)                Output Shape              Param #   \n",
            "=================================================================\n",
            " input_4 (InputLayer)        [(None, 32, 32, 3)]       0         \n",
            "                                                                 \n",
            " conv2d_28 (Conv2D)          (None, 30, 30, 16)        448       \n",
            "                                                                 \n",
            " conv2d_29 (Conv2D)          (None, 30, 30, 16)        2320      \n",
            "                                                                 \n",
            " conv2d_30 (Conv2D)          (None, 28, 28, 32)        4640      \n",
            "                                                                 \n",
            " conv2d_31 (Conv2D)          (None, 28, 28, 32)        9248      \n",
            "                                                                 \n",
            " conv2d_32 (Conv2D)          (None, 26, 26, 32)        9248      \n",
            "                                                                 \n",
            " conv2d_33 (Conv2D)          (None, 26, 26, 32)        9248      \n",
            "                                                                 \n",
            " conv2d_35 (Conv2D)          (None, 24, 24, 64)        18496     \n",
            "                                                                 \n",
            " conv2d_36 (Conv2D)          (None, 24, 24, 64)        36928     \n",
            "                                                                 \n",
            " max_pooling2d_7 (MaxPooling  (None, 12, 12, 64)       0         \n",
            " 2D)                                                             \n",
            "                                                                 \n",
            " conv2d_37 (Conv2D)          (None, 10, 10, 64)        36928     \n",
            "                                                                 \n",
            " conv2d_38 (Conv2D)          (None, 10, 10, 64)        36928     \n",
            "                                                                 \n",
            " max_pooling2d_8 (MaxPooling  (None, 5, 5, 64)         0         \n",
            " 2D)                                                             \n",
            "                                                                 \n",
            " flatten_3 (Flatten)         (None, 1600)              0         \n",
            "                                                                 \n",
            " dense_6 (Dense)             (None, 64)                102464    \n",
            "                                                                 \n",
            " dense_7 (Dense)             (None, 10)                650       \n",
            "                                                                 \n",
            "=================================================================\n",
            "Total params: 267,546\n",
            "Trainable params: 267,546\n",
            "Non-trainable params: 0\n",
            "_________________________________________________________________\n",
            "None\n"
          ]
        }
      ],
      "source": [
        "response_student = keras.models.clone_model(student)\n",
        "print(\"STUDENT MODEL (RESPONSE BASED LEARNING)\")\n",
        "print(student_baseline.summary())"
      ]
    },
    {
      "cell_type": "markdown",
      "metadata": {
        "id": "jHyJar-D0Awm"
      },
      "source": [
        "#### KD Training"
      ]
    },
    {
      "cell_type": "code",
      "execution_count": 37,
      "metadata": {
        "colab": {
          "base_uri": "https://localhost:8080/"
        },
        "id": "6BDL1m4K3Dqn",
        "outputId": "3d3d5654-2ba1-42f5-9b30-b9640f9d300c"
      },
      "outputs": [
        {
          "name": "stdout",
          "output_type": "stream",
          "text": [
            "Epoch 1/15\n",
            "782/782 [==============================] - 11s 13ms/step - categorical_accuracy: 0.3103 - total_loss: 1.9610 - student_loss: 1.8756 - distillation_loss: 2.3025 - val_categorical_accuracy: 0.3890 - val_student_loss: 1.5925\n",
            "Epoch 2/15\n",
            "782/782 [==============================] - 10s 13ms/step - categorical_accuracy: 0.4459 - total_loss: 1.6767 - student_loss: 1.5203 - distillation_loss: 2.3025 - val_categorical_accuracy: 0.4673 - val_student_loss: 1.4856\n",
            "Epoch 3/15\n",
            "782/782 [==============================] - 10s 12ms/step - categorical_accuracy: 0.4998 - total_loss: 1.5696 - student_loss: 1.3863 - distillation_loss: 2.3024 - val_categorical_accuracy: 0.5039 - val_student_loss: 1.1280\n",
            "Epoch 4/15\n",
            "782/782 [==============================] - 10s 12ms/step - categorical_accuracy: 0.5435 - total_loss: 1.4837 - student_loss: 1.2790 - distillation_loss: 2.3024 - val_categorical_accuracy: 0.5340 - val_student_loss: 1.0808\n",
            "Epoch 5/15\n",
            "782/782 [==============================] - 10s 13ms/step - categorical_accuracy: 0.5750 - total_loss: 1.4190 - student_loss: 1.1982 - distillation_loss: 2.3024 - val_categorical_accuracy: 0.5739 - val_student_loss: 0.8154\n",
            "Epoch 6/15\n",
            "782/782 [==============================] - 10s 13ms/step - categorical_accuracy: 0.6079 - total_loss: 1.3524 - student_loss: 1.1149 - distillation_loss: 2.3024 - val_categorical_accuracy: 0.5979 - val_student_loss: 1.1239\n",
            "Epoch 7/15\n",
            "782/782 [==============================] - 10s 12ms/step - categorical_accuracy: 0.6296 - total_loss: 1.3054 - student_loss: 1.0561 - distillation_loss: 2.3024 - val_categorical_accuracy: 0.6094 - val_student_loss: 0.9605\n",
            "Epoch 8/15\n",
            "782/782 [==============================] - 9s 12ms/step - categorical_accuracy: 0.6477 - total_loss: 1.2633 - student_loss: 1.0036 - distillation_loss: 2.3024 - val_categorical_accuracy: 0.6253 - val_student_loss: 1.0244\n",
            "Epoch 9/15\n",
            "782/782 [==============================] - 10s 12ms/step - categorical_accuracy: 0.6669 - total_loss: 1.2243 - student_loss: 0.9548 - distillation_loss: 2.3023 - val_categorical_accuracy: 0.6374 - val_student_loss: 0.9328\n",
            "Epoch 10/15\n",
            "782/782 [==============================] - 10s 13ms/step - categorical_accuracy: 0.6806 - total_loss: 1.1934 - student_loss: 0.9161 - distillation_loss: 2.3023 - val_categorical_accuracy: 0.6306 - val_student_loss: 0.9218\n",
            "Epoch 11/15\n",
            "782/782 [==============================] - 10s 13ms/step - categorical_accuracy: 0.6985 - total_loss: 1.1558 - student_loss: 0.8691 - distillation_loss: 2.3023 - val_categorical_accuracy: 0.6514 - val_student_loss: 0.9566\n",
            "Epoch 12/15\n",
            "782/782 [==============================] - 9s 12ms/step - categorical_accuracy: 0.7118 - total_loss: 1.1215 - student_loss: 0.8264 - distillation_loss: 2.3023 - val_categorical_accuracy: 0.6631 - val_student_loss: 0.8345\n",
            "Epoch 13/15\n",
            "782/782 [==============================] - 9s 12ms/step - categorical_accuracy: 0.7226 - total_loss: 1.0967 - student_loss: 0.7953 - distillation_loss: 2.3023 - val_categorical_accuracy: 0.6703 - val_student_loss: 0.9482\n",
            "Epoch 14/15\n",
            "782/782 [==============================] - 10s 13ms/step - categorical_accuracy: 0.7347 - total_loss: 1.0687 - student_loss: 0.7603 - distillation_loss: 2.3023 - val_categorical_accuracy: 0.6702 - val_student_loss: 0.8390\n",
            "Epoch 15/15\n",
            "782/782 [==============================] - 10s 13ms/step - categorical_accuracy: 0.7457 - total_loss: 1.0432 - student_loss: 0.7285 - distillation_loss: 2.3023 - val_categorical_accuracy: 0.6758 - val_student_loss: 0.8535\n"
          ]
        }
      ],
      "source": [
        "response_distiller = Distiller(student=response_student, teacher=teacher)\n",
        "response_distiller.compile(\n",
        "    optimizer = opt,\n",
        "    metrics = tf.keras.metrics.CategoricalAccuracy(),\n",
        "    student_loss_fn = tf.keras.losses.CategoricalCrossentropy(),\n",
        "    distillation_loss_fn = tf.keras.losses.CategoricalCrossentropy(),\n",
        "    alpha=0.2,\n",
        "    temperature=10,\n",
        "    is_KD_train = True\n",
        ")\n",
        "\n",
        "# Distill teacher to student\n",
        "response_history = response_distiller.fit(x_train, y_train, epochs=15, batch_size=64, validation_data=(x_test, y_test))"
      ]
    },
    {
      "cell_type": "markdown",
      "metadata": {
        "id": "ofBa-ouC3EJS"
      },
      "source": [
        "#### Predict"
      ]
    },
    {
      "cell_type": "code",
      "execution_count": 38,
      "metadata": {
        "colab": {
          "base_uri": "https://localhost:8080/"
        },
        "id": "mFLwiNFx3Ghh",
        "outputId": "ea9a578b-b3a4-48b0-adcf-6b385cdf6084"
      },
      "outputs": [
        {
          "name": "stdout",
          "output_type": "stream",
          "text": [
            "313/313 [==============================] - 1s 4ms/step - categorical_accuracy: 0.6758 - student_loss: 0.9540\n"
          ]
        },
        {
          "data": {
            "text/plain": [
              "[0.6758000254631042, 0.8535149097442627]"
            ]
          },
          "execution_count": 38,
          "metadata": {},
          "output_type": "execute_result"
        }
      ],
      "source": [
        "response_distiller.evaluate(x_test, y_test)"
      ]
    },
    {
      "cell_type": "markdown",
      "metadata": {
        "id": "BY9SB_Pt3G_5"
      },
      "source": [
        "#### Plot Graph"
      ]
    },
    {
      "cell_type": "code",
      "execution_count": 39,
      "metadata": {
        "colab": {
          "base_uri": "https://localhost:8080/",
          "height": 247
        },
        "id": "j6ZK19v93KgP",
        "outputId": "b5d08d65-8b03-413d-c320-70bf6ce1e2b7"
      },
      "outputs": [
        {
          "data": {
            "image/png": "[encoded data removed]",
            "text/plain": [
              "<Figure size 1008x216 with 2 Axes>"
            ]
          },
          "metadata": {
            "needs_background": "light"
          },
          "output_type": "display_data"
        }
      ],
      "source": [
        "plot_graphs(response_history, \"STUDENT MODEL (RESPONSE BASED LEARNING)\", \"categorical_accuracy\", \"val_categorical_accuracy\", \"total_loss\", \"val_student_loss\")"
      ]
    },
    {
      "cell_type": "markdown",
      "metadata": {
        "id": "GOMa4qT9z7go"
      },
      "source": [
        "# Feature Based Learning"
      ]
    },
    {
      "cell_type": "markdown",
      "metadata": {
        "id": "U1M8KInw5WC-"
      },
      "source": [
        "#### Guided Student Layers"
      ]
    },
    {
      "cell_type": "code",
      "execution_count": 40,
      "metadata": {
        "colab": {
          "base_uri": "https://localhost:8080/"
        },
        "id": "kKFGoWvo5Zkn",
        "outputId": "8b382cce-6cf0-437f-b1af-65df3b4dbb29"
      },
      "outputs": [
        {
          "name": "stdout",
          "output_type": "stream",
          "text": [
            "STUDENT GUIDED LAYERS\n",
            "Model: \"model_8\"\n",
            "_________________________________________________________________\n",
            " Layer (type)                Output Shape              Param #   \n",
            "=================================================================\n",
            " input_4 (InputLayer)        [(None, 32, 32, 3)]       0         \n",
            "                                                                 \n",
            " conv2d_28 (Conv2D)          (None, 30, 30, 16)        448       \n",
            "                                                                 \n",
            " conv2d_29 (Conv2D)          (None, 30, 30, 16)        2320      \n",
            "                                                                 \n",
            " conv2d_30 (Conv2D)          (None, 28, 28, 32)        4640      \n",
            "                                                                 \n",
            " conv2d_31 (Conv2D)          (None, 28, 28, 32)        9248      \n",
            "                                                                 \n",
            " conv2d_32 (Conv2D)          (None, 26, 26, 32)        9248      \n",
            "                                                                 \n",
            " conv2d_33 (Conv2D)          (None, 26, 26, 32)        9248      \n",
            "                                                                 \n",
            " conv2d_34 (Conv2D)          (None, 16, 16, 64)        247872    \n",
            "                                                                 \n",
            "=================================================================\n",
            "Total params: 283,024\n",
            "Trainable params: 283,024\n",
            "Non-trainable params: 0\n",
            "_________________________________________________________________\n",
            "None\n"
          ]
        }
      ],
      "source": [
        "opt = SGD(learning_rate=0.001, momentum=0.9)\n",
        "student_guided.compile(optimizer=opt, loss='categorical_crossentropy', metrics=['accuracy'])\n",
        "print(\"STUDENT GUIDED LAYERS\")\n",
        "print(student_guided.summary())"
      ]
    },
    {
      "cell_type": "markdown",
      "metadata": {
        "id": "RXe6GCMU5nGi"
      },
      "source": [
        "#### Hint Training"
      ]
    },
    {
      "cell_type": "code",
      "execution_count": 41,
      "metadata": {
        "colab": {
          "base_uri": "https://localhost:8080/"
        },
        "id": "zwlNIA9j5lLi",
        "outputId": "caa792f9-9bc9-480e-a766-773d382e6bba"
      },
      "outputs": [
        {
          "name": "stdout",
          "output_type": "stream",
          "text": [
            "Epoch 1/15\n",
            "782/782 [==============================] - 8s 10ms/step - mean_squared_error: 0.4263 - total_loss: 6.0213e-05 - student_loss: 0.0000e+00 - distillation_loss: 6.0213e-05\n",
            "Epoch 2/15\n",
            "782/782 [==============================] - 8s 10ms/step - mean_squared_error: 0.4263 - total_loss: 6.0227e-05 - student_loss: 0.0000e+00 - distillation_loss: 6.0227e-05\n",
            "Epoch 3/15\n",
            "782/782 [==============================] - 8s 10ms/step - mean_squared_error: 0.4263 - total_loss: 6.0202e-05 - student_loss: 0.0000e+00 - distillation_loss: 6.0202e-05\n",
            "Epoch 4/15\n",
            "782/782 [==============================] - 8s 10ms/step - mean_squared_error: 0.4263 - total_loss: 6.0213e-05 - student_loss: 0.0000e+00 - distillation_loss: 6.0213e-05\n",
            "Epoch 5/15\n",
            "782/782 [==============================] - 8s 10ms/step - mean_squared_error: 0.4263 - total_loss: 6.0223e-05 - student_loss: 0.0000e+00 - distillation_loss: 6.0223e-05\n",
            "Epoch 6/15\n",
            "782/782 [==============================] - 8s 10ms/step - mean_squared_error: 0.4263 - total_loss: 6.0187e-05 - student_loss: 0.0000e+00 - distillation_loss: 6.0187e-05\n",
            "Epoch 7/15\n",
            "782/782 [==============================] - 8s 10ms/step - mean_squared_error: 0.4263 - total_loss: 6.0177e-05 - student_loss: 0.0000e+00 - distillation_loss: 6.0177e-05\n",
            "Epoch 8/15\n",
            "782/782 [==============================] - 8s 10ms/step - mean_squared_error: 0.4263 - total_loss: 6.0210e-05 - student_loss: 0.0000e+00 - distillation_loss: 6.0210e-05\n",
            "Epoch 9/15\n",
            "782/782 [==============================] - 8s 10ms/step - mean_squared_error: 0.4264 - total_loss: 6.0210e-05 - student_loss: 0.0000e+00 - distillation_loss: 6.0210e-05\n",
            "Epoch 10/15\n",
            "782/782 [==============================] - 8s 10ms/step - mean_squared_error: 0.4264 - total_loss: 6.0188e-05 - student_loss: 0.0000e+00 - distillation_loss: 6.0188e-05\n",
            "Epoch 11/15\n",
            "782/782 [==============================] - 8s 10ms/step - mean_squared_error: 0.4264 - total_loss: 6.0200e-05 - student_loss: 0.0000e+00 - distillation_loss: 6.0200e-05\n",
            "Epoch 12/15\n",
            "782/782 [==============================] - 8s 10ms/step - mean_squared_error: 0.4264 - total_loss: 6.0211e-05 - student_loss: 0.0000e+00 - distillation_loss: 6.0211e-05\n",
            "Epoch 13/15\n",
            "782/782 [==============================] - 8s 10ms/step - mean_squared_error: 0.4264 - total_loss: 6.0232e-05 - student_loss: 0.0000e+00 - distillation_loss: 6.0232e-05\n",
            "Epoch 14/15\n",
            "782/782 [==============================] - 8s 10ms/step - mean_squared_error: 0.4264 - total_loss: 6.0204e-05 - student_loss: 0.0000e+00 - distillation_loss: 6.0204e-05\n",
            "Epoch 15/15\n",
            "782/782 [==============================] - 8s 10ms/step - mean_squared_error: 0.4264 - total_loss: 6.0207e-05 - student_loss: 0.0000e+00 - distillation_loss: 6.0207e-05\n"
          ]
        },
        {
          "data": {
            "text/plain": [
              "<keras.callbacks.History at 0x7f990ed35b90>"
            ]
          },
          "execution_count": 41,
          "metadata": {},
          "output_type": "execute_result"
        }
      ],
      "source": [
        "hint_training = Distiller(student=student_guided, teacher=teacher_hint)\n",
        "hint_training.compile(\n",
        "    optimizer = opt,\n",
        "    metrics = tf.keras.metrics.MeanSquaredError(),\n",
        "    student_loss_fn = tf.keras.losses.CategoricalCrossentropy(),\n",
        "    distillation_loss_fn = tf.keras.losses.MeanSquaredError(),\n",
        "    alpha=1,\n",
        "    temperature=5,\n",
        ")\n",
        "\n",
        "# Distill teacher to student\n",
        "hint_training.fit(x_train, y_train, epochs=15, batch_size=64)"
      ]
    },
    {
      "cell_type": "markdown",
      "metadata": {
        "id": "lqxn_u6g3h-W"
      },
      "source": [
        "#### Feature Based Student Model"
      ]
    },
    {
      "cell_type": "code",
      "execution_count": 42,
      "metadata": {
        "colab": {
          "base_uri": "https://localhost:8080/"
        },
        "id": "G7UC-eZu3j6m",
        "outputId": "d840bb7b-934d-40c9-8574-0b075633a23c"
      },
      "outputs": [
        {
          "name": "stdout",
          "output_type": "stream",
          "text": [
            "STUDENT MODEL (FEATURE BASED LEARNING)\n",
            "Model: \"model_7\"\n",
            "_________________________________________________________________\n",
            " Layer (type)                Output Shape              Param #   \n",
            "=================================================================\n",
            " input_4 (InputLayer)        [(None, 32, 32, 3)]       0         \n",
            "                                                                 \n",
            " conv2d_28 (Conv2D)          (None, 30, 30, 16)        448       \n",
            "                                                                 \n",
            " conv2d_29 (Conv2D)          (None, 30, 30, 16)        2320      \n",
            "                                                                 \n",
            " conv2d_30 (Conv2D)          (None, 28, 28, 32)        4640      \n",
            "                                                                 \n",
            " conv2d_31 (Conv2D)          (None, 28, 28, 32)        9248      \n",
            "                                                                 \n",
            " conv2d_32 (Conv2D)          (None, 26, 26, 32)        9248      \n",
            "                                                                 \n",
            " conv2d_33 (Conv2D)          (None, 26, 26, 32)        9248      \n",
            "                                                                 \n",
            " conv2d_35 (Conv2D)          (None, 24, 24, 64)        18496     \n",
            "                                                                 \n",
            " conv2d_36 (Conv2D)          (None, 24, 24, 64)        36928     \n",
            "                                                                 \n",
            " max_pooling2d_7 (MaxPooling  (None, 12, 12, 64)       0         \n",
            " 2D)                                                             \n",
            "                                                                 \n",
            " conv2d_37 (Conv2D)          (None, 10, 10, 64)        36928     \n",
            "                                                                 \n",
            " conv2d_38 (Conv2D)          (None, 10, 10, 64)        36928     \n",
            "                                                                 \n",
            " max_pooling2d_8 (MaxPooling  (None, 5, 5, 64)         0         \n",
            " 2D)                                                             \n",
            "                                                                 \n",
            " flatten_3 (Flatten)         (None, 1600)              0         \n",
            "                                                                 \n",
            " dense_6 (Dense)             (None, 64)                102464    \n",
            "                                                                 \n",
            " dense_7 (Dense)             (None, 10)                650       \n",
            "                                                                 \n",
            "=================================================================\n",
            "Total params: 267,546\n",
            "Trainable params: 267,546\n",
            "Non-trainable params: 0\n",
            "_________________________________________________________________\n",
            "None\n"
          ]
        }
      ],
      "source": [
        "print(\"STUDENT MODEL (FEATURE BASED LEARNING)\")\n",
        "print(student.summary())"
      ]
    },
    {
      "cell_type": "markdown",
      "metadata": {
        "id": "MJ147UxsZeNu"
      },
      "source": [
        "#### KD(Knowledge Distillation) Training"
      ]
    },
    {
      "cell_type": "code",
      "execution_count": 44,
      "metadata": {
        "colab": {
          "base_uri": "https://localhost:8080/"
        },
        "id": "ZZ1ABsPTZf8Q",
        "outputId": "27ab9fe1-713b-482d-e348-fd113a9f1b0d"
      },
      "outputs": [
        {
          "name": "stdout",
          "output_type": "stream",
          "text": [
            "Epoch 1/15\n",
            "782/782 [==============================] - 11s 13ms/step - categorical_accuracy: 0.4970 - total_loss: 1.5792 - student_loss: 1.3984 - distillation_loss: 2.3024 - val_categorical_accuracy: 0.5213 - val_student_loss: 1.0485\n",
            "Epoch 2/15\n",
            "782/782 [==============================] - 10s 13ms/step - categorical_accuracy: 0.5392 - total_loss: 1.4901 - student_loss: 1.2870 - distillation_loss: 2.3024 - val_categorical_accuracy: 0.5389 - val_student_loss: 1.4132\n",
            "Epoch 3/15\n",
            "782/782 [==============================] - 10s 13ms/step - categorical_accuracy: 0.5726 - total_loss: 1.4255 - student_loss: 1.2063 - distillation_loss: 2.3024 - val_categorical_accuracy: 0.5725 - val_student_loss: 1.3195\n",
            "Epoch 4/15\n",
            "782/782 [==============================] - 10s 12ms/step - categorical_accuracy: 0.5977 - total_loss: 1.3741 - student_loss: 1.1420 - distillation_loss: 2.3024 - val_categorical_accuracy: 0.5585 - val_student_loss: 1.7108\n",
            "Epoch 5/15\n",
            "782/782 [==============================] - 10s 13ms/step - categorical_accuracy: 0.6161 - total_loss: 1.3319 - student_loss: 1.0892 - distillation_loss: 2.3024 - val_categorical_accuracy: 0.5829 - val_student_loss: 1.1422\n",
            "Epoch 6/15\n",
            "782/782 [==============================] - 10s 12ms/step - categorical_accuracy: 0.6386 - total_loss: 1.2851 - student_loss: 1.0308 - distillation_loss: 2.3024 - val_categorical_accuracy: 0.6232 - val_student_loss: 1.1850\n",
            "Epoch 7/15\n",
            "782/782 [==============================] - 10s 12ms/step - categorical_accuracy: 0.6568 - total_loss: 1.2485 - student_loss: 0.9850 - distillation_loss: 2.3024 - val_categorical_accuracy: 0.6364 - val_student_loss: 1.2196\n",
            "Epoch 8/15\n",
            "782/782 [==============================] - 10s 13ms/step - categorical_accuracy: 0.6674 - total_loss: 1.2198 - student_loss: 0.9492 - distillation_loss: 2.3023 - val_categorical_accuracy: 0.6492 - val_student_loss: 1.1898\n",
            "Epoch 9/15\n",
            "782/782 [==============================] - 10s 12ms/step - categorical_accuracy: 0.6848 - total_loss: 1.1857 - student_loss: 0.9065 - distillation_loss: 2.3023 - val_categorical_accuracy: 0.6319 - val_student_loss: 1.1677\n",
            "Epoch 10/15\n",
            "782/782 [==============================] - 10s 13ms/step - categorical_accuracy: 0.6970 - total_loss: 1.1585 - student_loss: 0.8725 - distillation_loss: 2.3023 - val_categorical_accuracy: 0.6401 - val_student_loss: 1.2746\n",
            "Epoch 11/15\n",
            "782/782 [==============================] - 10s 12ms/step - categorical_accuracy: 0.7106 - total_loss: 1.1223 - student_loss: 0.8273 - distillation_loss: 2.3023 - val_categorical_accuracy: 0.6645 - val_student_loss: 1.3594\n",
            "Epoch 12/15\n",
            "782/782 [==============================] - 10s 13ms/step - categorical_accuracy: 0.7199 - total_loss: 1.0979 - student_loss: 0.7968 - distillation_loss: 2.3023 - val_categorical_accuracy: 0.6582 - val_student_loss: 1.3136\n",
            "Epoch 13/15\n",
            "782/782 [==============================] - 10s 13ms/step - categorical_accuracy: 0.7365 - total_loss: 1.0694 - student_loss: 0.7611 - distillation_loss: 2.3023 - val_categorical_accuracy: 0.6669 - val_student_loss: 1.0681\n",
            "Epoch 14/15\n",
            "782/782 [==============================] - 10s 13ms/step - categorical_accuracy: 0.7407 - total_loss: 1.0500 - student_loss: 0.7369 - distillation_loss: 2.3023 - val_categorical_accuracy: 0.6813 - val_student_loss: 1.0193\n",
            "Epoch 15/15\n",
            "782/782 [==============================] - 10s 13ms/step - categorical_accuracy: 0.7546 - total_loss: 1.0217 - student_loss: 0.7016 - distillation_loss: 2.3023 - val_categorical_accuracy: 0.6820 - val_student_loss: 1.1377\n"
          ]
        }
      ],
      "source": [
        "KD_training = Distiller(student=student, teacher=teacher)\n",
        "KD_training.compile(\n",
        "    optimizer = opt,\n",
        "    metrics = tf.keras.metrics.CategoricalAccuracy(),\n",
        "    student_loss_fn = tf.keras.losses.CategoricalCrossentropy(),\n",
        "    distillation_loss_fn = tf.keras.losses.CategoricalCrossentropy(),\n",
        "    alpha=0.2,\n",
        "    temperature=10,\n",
        "    is_KD_train = True\n",
        ")\n",
        "\n",
        "# Distill teacher to student\n",
        "distilled_history = KD_training.fit(x_train, y_train, epochs=15, batch_size=64, validation_data=(x_test, y_test))"
      ]
    },
    {
      "cell_type": "markdown",
      "metadata": {
        "id": "FOIG2l3mZqNp"
      },
      "source": [
        "#### Feature Based Distilled Model Predict"
      ]
    },
    {
      "cell_type": "code",
      "execution_count": 45,
      "metadata": {
        "colab": {
          "base_uri": "https://localhost:8080/"
        },
        "id": "wlPA3Z7YZu6s",
        "outputId": "8cd50954-39dd-48f0-e97e-34420fd83b9f"
      },
      "outputs": [
        {
          "name": "stdout",
          "output_type": "stream",
          "text": [
            "313/313 [==============================] - 1s 4ms/step - categorical_accuracy: 0.6820 - student_loss: 0.9203\n"
          ]
        },
        {
          "data": {
            "text/plain": [
              "[0.6819999814033508, 1.1376605033874512]"
            ]
          },
          "execution_count": 45,
          "metadata": {},
          "output_type": "execute_result"
        }
      ],
      "source": [
        "KD_training.evaluate(x_test, y_test)"
      ]
    },
    {
      "cell_type": "markdown",
      "metadata": {
        "id": "weOqwaJbZzId"
      },
      "source": [
        "#### Distilled Model Plot Graph"
      ]
    },
    {
      "cell_type": "code",
      "execution_count": 46,
      "metadata": {
        "colab": {
          "base_uri": "https://localhost:8080/",
          "height": 247
        },
        "id": "IXPyJYA-Z8I8",
        "outputId": "bfcca50d-e4df-491b-8d3f-5720d98f1f4f"
      },
      "outputs": [
        {
          "data": {
            "image/png": "[encoded data removed]",
            "text/plain": [
              "<Figure size 1008x216 with 2 Axes>"
            ]
          },
          "metadata": {
            "needs_background": "light"
          },
          "output_type": "display_data"
        }
      ],
      "source": [
        "plot_graphs(distilled_history, \"STUDENT MODEL (FEATURE BASED LEARNING)\", \"categorical_accuracy\", \"val_categorical_accuracy\", \"total_loss\", \"val_student_loss\")"
      ]
    }
  ],
  "metadata": {
    "accelerator": "GPU",
    "colab": {
      "name": "SMAI_PROJECT_final_1.ipynb",
      "provenance": []
    },
    "kernelspec": {
      "display_name": "Python 3",
      "name": "python3"
    },
    "language_info": {
      "name": "python"
    }
  },
  "nbformat": 4,
  "nbformat_minor": 0
}
